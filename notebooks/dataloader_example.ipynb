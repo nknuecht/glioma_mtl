{
 "cells": [
  {
   "cell_type": "code",
   "execution_count": 15,
   "metadata": {},
   "outputs": [
    {
     "name": "stdout",
     "output_type": "stream",
     "text": [
      "The autoreload extension is already loaded. To reload it, use:\n",
      "  %reload_ext autoreload\n"
     ]
    }
   ],
   "source": [
    "import sys\n",
    "sys.path.append('../')\n",
    "\n",
    "import pandas as pd\n",
    "import numpy as np\n",
    "\n",
    "import torch\n",
    "from torch.utils.data import DataLoader\n",
    "from torch.utils.tensorboard import SummaryWriter\n",
    "\n",
    "from datasets import GeneralDataset\n",
    "from Transforms import get_transformations\n",
    "from utils import get_data_splits, get_input_params\n",
    "from torchvision import utils\n",
    "from train_mtl import mtl_experiment\n",
    "\n",
    "import matplotlib.pyplot as plt\n",
    "%matplotlib inline\n",
    "\n",
    "%load_ext autoreload\n",
    "%autoreload 2"
   ]
  },
  {
   "cell_type": "code",
   "execution_count": 16,
   "metadata": {},
   "outputs": [
    {
     "data": {
      "text/plain": [
       "device(type='cuda', index=0)"
      ]
     },
     "execution_count": 16,
     "metadata": {},
     "output_type": "execute_result"
    }
   ],
   "source": [
    "device = torch.device(\"cuda:0\" if torch.cuda.is_available() else \"cpu\")\n",
    "device"
   ]
  },
  {
   "cell_type": "markdown",
   "metadata": {},
   "source": [
    "Choose parameters\n",
    "- 4 channel full resolution:\n",
    "```python\n",
    "    task \\in ['idh', '1p19q']\n",
    "    dataformat \\in ['raw3D', 'crop3Dslice', 'modality3D']\n",
    "    modality \\in ['all', 't1ce', 'flair', 't2', 't1', 't1ce-t1']\n",
    "    include_genomic_data \\in [True, False]\n",
    "```"
   ]
  },
  {
   "cell_type": "code",
   "execution_count": 4,
   "metadata": {},
   "outputs": [],
   "source": [
    "task = 'idh'\n",
    "dataformat = 'crop3Dslice'\n",
    "modality = 'all' # only relevent for 'modality3D' dataformat\n",
    "include_genomic_data = False # don't include genomic data\n",
    "\n",
    "dataformat, channels, resize_shape = get_input_params(dataformat)"
   ]
  },
  {
   "cell_type": "code",
   "execution_count": 5,
   "metadata": {},
   "outputs": [
    {
     "name": "stdout",
     "output_type": "stream",
     "text": [
      "task:\t\t idh\n",
      "dataformat:\t cropped3D_mtl\n",
      "channels:\t 4\n",
      "modality:\t all\n",
      "resize_shape:\t (64, 64, 64)\n",
      "include_genomic_data:\t False\n"
     ]
    }
   ],
   "source": [
    "print('task:\\t\\t', task)\n",
    "print('dataformat:\\t', dataformat)\n",
    "print('channels:\\t', channels)\n",
    "print('modality:\\t', modality)\n",
    "print('resize_shape:\\t', resize_shape)\n",
    "print('include_genomic_data:\\t', include_genomic_data)"
   ]
  },
  {
   "cell_type": "code",
   "execution_count": 17,
   "metadata": {},
   "outputs": [
    {
     "name": "stdout",
     "output_type": "stream",
     "text": [
      "Train size 112\n"
     ]
    }
   ],
   "source": [
    "# MRI directory\n",
    "image_dir = '../data/all_brats_scans/'\n",
    "\n",
    "# metadata for all brats (including tcia) data\n",
    "## including: map from bratsIDs to tciaIDs; IDH & 1p/19q labels, and survival labels\n",
    "best_model_loc = '../pretrained/espnet_3d_brats.pth' # segmentation model weights\n",
    "glioma_metadata_df = pd.read_csv('../data/glioma_metadata.csv', index_col=0) # metadata file\n",
    "glioma_metadata_df = glioma_metadata_df.drop(columns=['BoundingBox', 'some_seg', 'subtype'])\n",
    "\n",
    "# get training splits\n",
    "train_df, val_df, classes = get_data_splits(metadata_df=glioma_metadata_df, task=task, mtl=False)\n",
    "\n",
    "# map between brats dataset and tcia data (tcia data is avalible for a subset of the brats patients)\n",
    "brats2tcia_df = glioma_metadata_df['tciaID']\n",
    "\n",
    "# these are labeled files (they were paths in old dataloader) but they are dataframes\n",
    "labels_dict = {'train':train_df, 'val':val_df, 'data':glioma_metadata_df}\n",
    "\n",
    "genomic_data_dict = {'train':'../data/MGL/MGL_235x50.csv', 'val':'../data/MGL/MGL_235x50.csv'}\n",
    "\n",
    "label = task\n",
    "\n",
    "print('Train size', len(train_df))"
   ]
  },
  {
   "cell_type": "code",
   "execution_count": 18,
   "metadata": {},
   "outputs": [
    {
     "data": {
      "text/plain": [
       "['wildtype', 'mutant']"
      ]
     },
     "execution_count": 18,
     "metadata": {},
     "output_type": "execute_result"
    }
   ],
   "source": [
    "## get transformations\n",
    "# MinMaxNormalize, Scale, \"zero sprinle\", \"zero channel\"\n",
    "train_transformations, seg_transformations, val_transformations = get_transformations(channels=channels, \n",
    "                                                                                      resize_shape=resize_shape, \n",
    "                                                                                      prob_voxel_zero=0.2, \n",
    "                                                                                      prob_true=0.8, \n",
    "                                                                                      prob_channel_zero=0.5,\n",
    "                                                                                      mtl=False)\n",
    "data_transforms = {'train': train_transformations, 'val':   val_transformations}\n",
    "                   \n",
    "transformed_dataset_train = GeneralDataset(metadata_df=train_df, \n",
    "                                           root_dir=image_dir,\n",
    "                                           genomic_csv_file = genomic_data_dict['train'],\n",
    "                                           transform=train_transformations,\n",
    "                                           seg_transform=seg_transformations,\n",
    "                                           label=label,\n",
    "                                           classes=classes,\n",
    "                                           dataformat=dataformat,\n",
    "                                           returndims=resize_shape,\n",
    "                                           brats2tcia_df=brats2tcia_df,\n",
    "                                           include_genomic_data = include_genomic_data,\n",
    "                                           pretrained=best_model_loc,\n",
    "                                           modality=modality)\n",
    "\n",
    "transformed_dataset_val = GeneralDataset(metadata_df=val_df,\n",
    "                                         root_dir=image_dir,\n",
    "                                         genomic_csv_file = genomic_data_dict['val'],\n",
    "                                         transform=val_transformations,\n",
    "                                         seg_transform=seg_transformations,\n",
    "                                         label=label,\n",
    "                                         classes=classes,\n",
    "                                         dataformat=dataformat,\n",
    "                                         returndims=resize_shape,\n",
    "                                         brats2tcia_df=brats2tcia_df,\n",
    "                                         include_genomic_data = include_genomic_data,\n",
    "                                         pretrained=best_model_loc,\n",
    "                                         modality=modality)\n",
    "\n",
    "\n",
    "# use Torch dataloader\n",
    "image_datasets = {'train':transformed_dataset_train, 'val':transformed_dataset_val}\n",
    "\n",
    "train_batch_size, val_batch_size = 4, 4\n",
    "dataloader_train = DataLoader(image_datasets['train'], batch_size=train_batch_size, shuffle=True, num_workers=4)\n",
    "dataloader_val = DataLoader(image_datasets['val'], batch_size=val_batch_size, shuffle=False, num_workers=4)\n",
    "\n",
    "dataloaders = {'train':dataloader_train, 'val':dataloader_val}\n",
    "dataset_sizes = {'train':len(image_datasets['train']), 'val':len(image_datasets['val'])}\n",
    "\n",
    "class_names = image_datasets['train'].classes\n",
    "class_names"
   ]
  },
  {
   "cell_type": "code",
   "execution_count": 13,
   "metadata": {},
   "outputs": [
    {
     "name": "stdout",
     "output_type": "stream",
     "text": [
      "Brats18_TCIA10_632_1 image size: torch.Size([4, 4, 64, 64, 64])\n"
     ]
    },
    {
     "data": {
      "image/png": "[encoded data removed]",
      "text/plain": [
       "<Figure size 1080x576 with 1 Axes>"
      ]
     },
     "metadata": {
      "needs_background": "light"
     },
     "output_type": "display_data"
    },
    {
     "data": {
      "image/png": "[encoded data removed]",
      "text/plain": [
       "<Figure size 288x288 with 1 Axes>"
      ]
     },
     "metadata": {
      "needs_background": "light"
     },
     "output_type": "display_data"
    }
   ],
   "source": [
    "# visualize training (or validation) data\n",
    "for i, data in enumerate(dataloaders['train']):\n",
    "    # data batch\n",
    "    (image, seg_image, genomic_data, seg_probs), label, (OS, OS_EVENT), bratsID = data\n",
    "    # print scan ID\n",
    "    print(bratsID[0], 'image size:', image.shape)\n",
    "    \n",
    "    # format MRI images (slices of volumetric input)\n",
    "    img = image[0,:, :, :, int(image.shape[-1]/2)].squeeze()\n",
    "    img = utils.make_grid(img)\n",
    "    img = img.detach().cpu().numpy()\n",
    "    \n",
    "    # plot images\n",
    "    plt.figure(figsize=(15, 8))\n",
    "    img_list = [img[i].T for i in range(channels)] # 1 image per channel\n",
    "    plt.imshow(np.hstack(img_list), cmap='Greys_r')\n",
    "    plt.show()\n",
    "\n",
    "    ## plot segmentation mask ##\n",
    "    seg_img = seg_image[0, :, :, :, int(seg_image.shape[-1]/2)].squeeze()\n",
    "    seg_img = utils.make_grid(seg_img).detach().cpu().numpy()\n",
    "\n",
    "    plt.figure(figsize=(4, 4))\n",
    "    plt.imshow(np.hstack([seg_img[0].T]), cmap='Greys_r')\n",
    "    plt.show()\n",
    "\n",
    "    break"
   ]
  },
  {
   "cell_type": "code",
   "execution_count": 14,
   "metadata": {},
   "outputs": [],
   "source": [
    "?get_transformations"
   ]
  },
  {
   "cell_type": "code",
   "execution_count": 19,
   "metadata": {},
   "outputs": [],
   "source": [
    "?GeneralDataset"
   ]
  },
  {
   "cell_type": "code",
   "execution_count": null,
   "metadata": {},
   "outputs": [],
   "source": []
  }
 ],
 "metadata": {
  "kernelspec": {
   "display_name": "Python 3",
   "language": "python",
   "name": "python3"
  },
  "language_info": {
   "codemirror_mode": {
    "name": "ipython",
    "version": 3
   },
   "file_extension": ".py",
   "mimetype": "text/x-python",
   "name": "python",
   "nbconvert_exporter": "python",
   "pygments_lexer": "ipython3",
   "version": "3.8.2"
  },
  "varInspector": {
   "cols": {
    "lenName": 16,
    "lenType": 16,
    "lenVar": 40
   },
   "kernels_config": {
    "python": {
     "delete_cmd_postfix": "",
     "delete_cmd_prefix": "del ",
     "library": "var_list.py",
     "varRefreshCmd": "print(var_dic_list())"
    },
    "r": {
     "delete_cmd_postfix": ") ",
     "delete_cmd_prefix": "rm(",
     "library": "var_list.r",
     "varRefreshCmd": "cat(var_dic_list()) "
    }
   },
   "types_to_exclude": [
    "module",
    "function",
    "builtin_function_or_method",
    "instance",
    "_Feature"
   ],
   "window_display": false
  }
 },
 "nbformat": 4,
 "nbformat_minor": 4
}
