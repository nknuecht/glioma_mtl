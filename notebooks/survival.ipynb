{
 "cells": [
  {
   "cell_type": "code",
   "execution_count": 2,
   "metadata": {},
   "outputs": [],
   "source": [
    "import sys\n",
    "sys.path.append('../')\n",
    "\n",
    "from survival.evaluate import evaluate_survival_per_subtype\n",
    "\n",
    "import lifelines\n",
    "\n",
    "import pandas as pd\n",
    "import numpy as np"
   ]
  },
  {
   "cell_type": "code",
   "execution_count": null,
   "metadata": {},
   "outputs": [],
   "source": []
  },
  {
   "cell_type": "code",
   "execution_count": 8,
   "metadata": {},
   "outputs": [],
   "source": [
    "def run_experiment(data_df, metadata_df):\n",
    "    \n",
    "    # calculate three molecular subtypes based on IDH and 1p/19q binary labels\n",
    "    metadata_df['subtype'] = metadata_df['idh'] + metadata_df['1p19q']\n",
    "    metadata_df['subtype'] = metadata_df['subtype'].replace({-1:'Unknown', 0:'IDH-Wildtype', \n",
    "                                                             1:'IDH-Mutant, 1p/19q Intact', 2:'1p/19q Co-deleted'})\n",
    "    # subtype dataframe\n",
    "    subtype_info = metadata_df.set_index('tciaID')['subtype']\n",
    "    \n",
    "    # split training / validation data\n",
    "    train_idxs = metadata_df.loc[metadata_df['phase'] == 'train']['tciaID'].tolist()\n",
    "    val_idxs = metadata_df.loc[metadata_df['phase'] == 'val']['tciaID'].tolist()\n",
    "\n",
    "    # get survival labels\n",
    "    survival_df = metadata_df.loc[metadata_df['tciaID'].isin(train_idxs + val_idxs)].set_index('tciaID')\n",
    "    survival_df = survival_df[['OS', 'OS_EVENT']]\n",
    "\n",
    "    # join data + survival labels\n",
    "    df = data_df.join(survival_df)\n",
    "\n",
    "    # divide data by training splits\n",
    "    train = df[df.index.isin(train_idxs)]\n",
    "    valid = df[df.index.isin(val_idxs)]\n",
    "\n",
    "    # train linear cox proportional hazard model\n",
    "    cph = lifelines.CoxPHFitter(penalizer=0.1)\n",
    "    cph.fit(train, duration_col='OS', event_col='OS_EVENT')\n",
    "\n",
    "    # get C-Index scores\n",
    "    valid_performance = evaluate_survival_per_subtype(valid[\"OS\"], \n",
    "                                                      - cph.predict_partial_hazard(valid), \n",
    "                                                      valid[\"OS_EVENT\"], \n",
    "                                                      valid.join(subtype_info)[\"subtype\"])\n",
    "    \n",
    "    return valid_performance"
   ]
  },
  {
   "cell_type": "code",
   "execution_count": null,
   "metadata": {},
   "outputs": [],
   "source": []
  },
  {
   "cell_type": "code",
   "execution_count": null,
   "metadata": {},
   "outputs": [],
   "source": []
  },
  {
   "cell_type": "code",
   "execution_count": 9,
   "metadata": {},
   "outputs": [
    {
     "data": {
      "text/plain": [
       "{'1p/19q Co-deleted': {'c-index': 0.84, 'n': 14},\n",
       " 'IDH-Mutant, 1p/19q Intact': {'c-index': 0.7868852459016393, 'n': 18},\n",
       " 'IDH-Wildtype': {'c-index': 0.6814516129032258, 'n': 27},\n",
       " 'Unknown': {'c-index': 0.5416666666666666, 'n': 16},\n",
       " 'all': {'c-index': 0.7289088863892014, 'n': 75}}"
      ]
     },
     "execution_count": 9,
     "metadata": {},
     "output_type": "execute_result"
    }
   ],
   "source": [
    "# load embedding from MTL model trained with 1-channel FLAIR MR input along with SCNA input\n",
    "embedding_csvfile = '../data/mtl_embedding_from_flair_scna.csv'\n",
    "embedding_df = pd.read_csv(embedding_csvfile, index_col=0)\n",
    "\n",
    "# metadata and that includes training/val split and survival labels (and events)\n",
    "glioma_metadata_df = pd.read_csv('../data/glioma_metadata.csv', index_col=0)\n",
    "\n",
    "# calculate survival C-Index over each IDH and 1p/19q defined subtype\n",
    "run_experiment(data_df=embedding_df, metadata_df=glioma_metadata_df)"
   ]
  }
 ],
 "metadata": {
  "kernelspec": {
   "display_name": "Python 3",
   "language": "python",
   "name": "python3"
  },
  "language_info": {
   "codemirror_mode": {
    "name": "ipython",
    "version": 3
   },
   "file_extension": ".py",
   "mimetype": "text/x-python",
   "name": "python",
   "nbconvert_exporter": "python",
   "pygments_lexer": "ipython3",
   "version": "3.8.2"
  }
 },
 "nbformat": 4,
 "nbformat_minor": 4
}
