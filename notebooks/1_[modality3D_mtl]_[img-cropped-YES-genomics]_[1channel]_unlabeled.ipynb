{
 "cells": [
  {
   "cell_type": "code",
   "execution_count": 1,
   "metadata": {},
   "outputs": [
    {
     "data": {
      "text/plain": [
       "device(type='cuda', index=0)"
      ]
     },
     "execution_count": 1,
     "metadata": {},
     "output_type": "execute_result"
    }
   ],
   "source": [
    "import sys\n",
    "sys.path.append('../')\n",
    "\n",
    "import os\n",
    "import numpy as np\n",
    "import torch\n",
    "import pandas as pd\n",
    "from skimage import transform # io, \n",
    "import PIL\n",
    "import math\n",
    "\n",
    "import matplotlib.pyplot as plt\n",
    "from torch.utils.data import DataLoader\n",
    "from torchvision import transforms, utils, datasets, models\n",
    "import torch.nn as nn\n",
    "import torch.optim as optim\n",
    "from torch.optim import lr_scheduler\n",
    "import torchvision\n",
    "import pickle\n",
    "\n",
    "from utils import get_bb_3D\n",
    "\n",
    "from glob import glob\n",
    "# Ignore warnings\n",
    "import warnings\n",
    "warnings.filterwarnings(\"ignore\")\n",
    "\n",
    "from tqdm import tqdm_notebook as tqdm\n",
    "%matplotlib inline\n",
    "plt.ion()   # interactive mode\n",
    "\n",
    "%load_ext autoreload\n",
    "%autoreload 2\n",
    "\n",
    "\n",
    "from datasets import GeneralDataset\n",
    "import Transforms as myTransforms\n",
    "\n",
    "device = torch.device(\"cuda:0\" if torch.cuda.is_available() else \"cpu\")\n",
    "device"
   ]
  },
  {
   "cell_type": "markdown",
   "metadata": {},
   "source": [
    "# Data"
   ]
  },
  {
   "cell_type": "code",
   "execution_count": null,
   "metadata": {},
   "outputs": [],
   "source": []
  },
  {
   "cell_type": "code",
   "execution_count": 2,
   "metadata": {},
   "outputs": [],
   "source": [
    "def get_data_splits(glioma_metadata_df, task='idh', mtl = False):\n",
    "    '''\n",
    "    glioma_metadata_df: for each sample, indicates\n",
    "        - if it is in the labeled training, unlabeled training set, or valiation set, \n",
    "        - idh status, and 1p19q status\n",
    "    task: 'idh' or '1p19q'\n",
    "    mlt: True or False\n",
    "    '''\n",
    "    if task == 'idh':\n",
    "        classes = ['wildtype', 'mutant']\n",
    "        val_df = glioma_metadata_df.loc[(glioma_metadata_df['phase'] == 'val') & (glioma_metadata_df[task].isin([0,1]))]\n",
    "        \n",
    "\n",
    "    elif task == '1p19q':\n",
    "        classes = ['non-codel', 'oligo']\n",
    "        val_df = glioma_metadata_df.loc[glioma_metadata_df['phase'] == 'val']\n",
    "        \n",
    "    if mtl:\n",
    "        train_df = glioma_metadata_df.loc[glioma_metadata_df['phase'].isin(['train', 'unlabeled train'])]\n",
    "    else:\n",
    "        train_df = glioma_metadata_df.loc[(glioma_metadata_df['phase'] == 'train') & (glioma_metadata_df[task].isin([0,1]))]\n",
    "\n",
    "    return train_df, val_df, classes"
   ]
  },
  {
   "cell_type": "code",
   "execution_count": null,
   "metadata": {},
   "outputs": [],
   "source": []
  },
  {
   "cell_type": "code",
   "execution_count": null,
   "metadata": {},
   "outputs": [],
   "source": []
  },
  {
   "cell_type": "code",
   "execution_count": null,
   "metadata": {},
   "outputs": [],
   "source": []
  },
  {
   "cell_type": "code",
   "execution_count": null,
   "metadata": {},
   "outputs": [],
   "source": []
  },
  {
   "cell_type": "code",
   "execution_count": 3,
   "metadata": {},
   "outputs": [
    {
     "name": "stdout",
     "output_type": "stream",
     "text": [
      "Train size 467\n"
     ]
    }
   ],
   "source": [
    "# task = '1p19q'\n",
    "task = 'idh'\n",
    "mtl = True\n",
    "best_model_loc = '../pretrained/espnet_3d_brats.pth'\n",
    "\n",
    "# we are predicting either idh gene mutation or chromosome arm 1p and 19q co-deletion\n",
    "old_glioma_metadata_df = pd.read_csv('../../miccai_clean/data/all_glioma_metadata_542x30.csv', index_col=0)\n",
    "old_glioma_metadata_df = old_glioma_metadata_df.rename(columns={'OS.time':'OS', '_EVENT':'OS_EVENT'})\n",
    "\n",
    "glioma_metadata_df = pd.read_csv('../data/glioma_metadata.csv', index_col=0)\n",
    "glioma_metadata_df.loc[['Brats18_TCIA09_462_1', 'Brats18_TCIA10_236_1'], 'idh'] = 1\n",
    "\n",
    "glioma_metadata_df['idh_cluster'] = old_glioma_metadata_df['idh_cluster']\n",
    "\n",
    "train_df, val_df, classes = get_data_splits(glioma_metadata_df=glioma_metadata_df, task=task, mtl=mtl)\n",
    "\n",
    "# metadata for all brats (including tcia) data\n",
    "\n",
    "brats2tcia_df = pd.read_csv('../../miccai_clean/data/brats2tcia_df_542x1.csv', index_col=0)\n",
    "\n",
    "\n",
    "# genomic data (you won't need this)\n",
    "genomic_csv_files = {'train':'../data/MGL/MGL_235x50.csv', 'val':  '../data/MGL/MGL_235x50.csv'}\n",
    "\n",
    "image_dir = '../data/all_brats_scans/'\n",
    "\n",
    "# labels we predict during classification \n",
    "cluster_column= task + '_cluster'\n",
    "\n",
    "# downsample dim. \n",
    "resize_shape = (64, 64, 64)\n",
    "\n",
    "# dataloader batch size\n",
    "train_batch_size = 4\n",
    "val_batch_size = 4\n",
    "data_batch_size = 1\n",
    "\n",
    "shuffle = True\n",
    "shuffle_data = True\n",
    "\n",
    "dataformat = 'modality3D_mtl'\n",
    "modality = 't1ce'\n",
    "channels = 1\n",
    "\n",
    "null_genomic = False\n",
    "\n",
    "print('Train size', len(train_df))"
   ]
  },
  {
   "cell_type": "code",
   "execution_count": 16,
   "metadata": {},
   "outputs": [
    {
     "data": {
      "text/plain": [
       "Brats18_TCIA01_401_1    448.0\n",
       "Brats18_TCIA01_429_1     86.0\n",
       "Brats18_TCIA01_454_1    144.0\n",
       "Brats18_TCIA02_117_1    268.0\n",
       "Brats18_TCIA02_135_1    828.0\n",
       "                        ...  \n",
       "Brats18_TCIA13_651_1     15.0\n",
       "Brats18_TCIA13_652_1     14.0\n",
       "Brats18_TCIA13_653_1      7.0\n",
       "Brats18_TCIA13_654_1      3.0\n",
       "Brats18_TCIA13_655_1      3.0\n",
       "Name: OS, Length: 171, dtype: float64"
      ]
     },
     "execution_count": 16,
     "metadata": {},
     "output_type": "execute_result"
    }
   ],
   "source": [
    "glioma_metadata_df.loc[glioma_metadata_df['idh'].isin([0,1])]['OS'].dropna()"
   ]
  },
  {
   "cell_type": "code",
   "execution_count": null,
   "metadata": {},
   "outputs": [],
   "source": []
  },
  {
   "cell_type": "code",
   "execution_count": null,
   "metadata": {},
   "outputs": [],
   "source": []
  },
  {
   "cell_type": "code",
   "execution_count": 22,
   "metadata": {},
   "outputs": [
    {
     "data": {
      "text/plain": [
       "112"
      ]
     },
     "execution_count": 22,
     "metadata": {},
     "output_type": "execute_result"
    }
   ],
   "source": [
    "ctr = 0\n",
    "for i in range(len(train_df)):\n",
    "    if train_df.iloc[i]['1p19q'] in [0,1]:\n",
    "        ctr += 1\n",
    "ctr"
   ]
  },
  {
   "cell_type": "code",
   "execution_count": null,
   "metadata": {},
   "outputs": [],
   "source": []
  },
  {
   "cell_type": "code",
   "execution_count": 23,
   "metadata": {},
   "outputs": [
    {
     "data": {
      "text/plain": [
       "Brats18_TCIA01_131_1   -1.0\n",
       "Brats18_TCIA01_147_1   -1.0\n",
       "Brats18_TCIA01_150_1   -1.0\n",
       "Brats18_TCIA01_180_1   -1.0\n",
       "Brats18_TCIA01_186_1   -1.0\n",
       "                       ... \n",
       "Brats18_TCIA13_642_1    0.0\n",
       "Brats18_TCIA13_645_1    0.0\n",
       "Brats18_TCIA13_650_1    0.0\n",
       "Brats18_TCIA13_653_1    0.0\n",
       "Brats18_TCIA13_654_1    0.0\n",
       "Name: 1p19q, Length: 160, dtype: float64"
      ]
     },
     "execution_count": 23,
     "metadata": {},
     "output_type": "execute_result"
    }
   ],
   "source": [
    "train_df['1p19q'].dropna()"
   ]
  },
  {
   "cell_type": "code",
   "execution_count": 25,
   "metadata": {},
   "outputs": [],
   "source": [
    "glioma_metadata_df = pd.read_csv('../data/glioma_metadata.csv', index_col=0)"
   ]
  },
  {
   "cell_type": "code",
   "execution_count": null,
   "metadata": {},
   "outputs": [],
   "source": []
  },
  {
   "cell_type": "code",
   "execution_count": 73,
   "metadata": {},
   "outputs": [
    {
     "data": {
      "text/plain": [
       "0.0    210\n",
       "1.0     28\n",
       "Name: 1p19q, dtype: int64"
      ]
     },
     "execution_count": 73,
     "metadata": {},
     "output_type": "execute_result"
    }
   ],
   "source": [
    "\n",
    "glioma_metadata_df['1p19q'].value_counts()"
   ]
  },
  {
   "cell_type": "code",
   "execution_count": 28,
   "metadata": {},
   "outputs": [
    {
     "data": {
      "text/plain": [
       " 1.0    87\n",
       " 0.0    84\n",
       "-1.0    64\n",
       "Name: idh, dtype: int64"
      ]
     },
     "execution_count": 28,
     "metadata": {},
     "output_type": "execute_result"
    }
   ],
   "source": [
    "glioma_metadata_df['idh'].value_counts()"
   ]
  },
  {
   "cell_type": "code",
   "execution_count": 77,
   "metadata": {},
   "outputs": [
    {
     "data": {
      "text/plain": [
       "171"
      ]
     },
     "execution_count": 77,
     "metadata": {},
     "output_type": "execute_result"
    }
   ],
   "source": [
    "87 + 84"
   ]
  },
  {
   "cell_type": "code",
   "execution_count": 78,
   "metadata": {},
   "outputs": [
    {
     "data": {
      "text/plain": [
       "59"
      ]
     },
     "execution_count": 78,
     "metadata": {},
     "output_type": "execute_result"
    }
   ],
   "source": [
    "171 - 112"
   ]
  },
  {
   "cell_type": "code",
   "execution_count": null,
   "metadata": {},
   "outputs": [],
   "source": []
  },
  {
   "cell_type": "code",
   "execution_count": 71,
   "metadata": {},
   "outputs": [
    {
     "data": {
      "text/plain": [
       "Index(['Brats18_TCIA09_141_1', 'Brats18_TCIA09_428_1', 'Brats18_TCIA10_106_1',\n",
       "       'Brats18_TCIA10_109_1', 'Brats18_TCIA10_130_1', 'Brats18_TCIA10_220_1',\n",
       "       'Brats18_TCIA10_239_1', 'Brats18_TCIA10_261_1', 'Brats18_TCIA10_266_1',\n",
       "       'Brats18_TCIA10_271_1', 'Brats18_TCIA10_276_1', 'Brats18_TCIA10_325_1',\n",
       "       'Brats18_TCIA10_387_1', 'Brats18_TCIA10_410_1', 'Brats18_TCIA10_614_1',\n",
       "       'Brats18_TCIA10_631_1', 'Brats18_TCIA10_637_1', 'Brats18_TCIA10_647_1',\n",
       "       'Brats18_TCIA12_466_1', 'Brats18_TCIA12_470_1', 'Brats18_TCIA12_613_1',\n",
       "       'Brats18_TCIA12_641_1', 'Brats18_TCIA13_610_1', 'Brats18_TCIA13_616_1',\n",
       "       'Brats18_TCIA13_617_1', 'Brats18_TCIA13_633_1', 'Brats18_TCIA13_638_1',\n",
       "       'Brats18_TCIA13_646_1'],\n",
       "      dtype='object')"
      ]
     },
     "execution_count": 71,
     "metadata": {},
     "output_type": "execute_result"
    }
   ],
   "source": [
    "glioma_metadata_df.loc[glioma_metadata_df['tciaID'].isin(oligo_idxs)].index"
   ]
  },
  {
   "cell_type": "code",
   "execution_count": null,
   "metadata": {},
   "outputs": [],
   "source": []
  },
  {
   "cell_type": "code",
   "execution_count": 72,
   "metadata": {},
   "outputs": [],
   "source": [
    "brats_tcia_idxs = glioma_metadata_df['tciaID'].dropna()\n",
    "\n",
    "subtype_df = pd.read_csv('../../tcga_data_cleaning/data/processed_data/santa_cruz/patient_metadata/subtype_spreadsheet_1128-36.csv', index_col=0)\n",
    "df = subtype_df.loc[brats_tcia_idxs]\n",
    "subtypes = ['Astro/GBM IDHwt', 'Astro/GBM IDHmut', 'Likely Astro/GBM IDHwt', 'Oligodendroglioma', 'Likely Astro/GBM IDHmut']\n",
    "possible_oligo_idxs = df.loc[df['subtype'].isin(subtypes)].index\n",
    "\n",
    "oligo_idxs = subtype_df.loc[subtype_df['subtype'] == 'Oligodendroglioma'].index\n",
    "oligo_idxs = [x for x in oligo_idxs if x in possible_oligo_idxs]\n",
    "non_oligo_idxs = [x for x in possible_oligo_idxs if x not in oligo_idxs]\n",
    "\n",
    "brats_oligo_idxs = glioma_metadata_df.loc[glioma_metadata_df['tciaID'].isin(oligo_idxs)].index\n",
    "brats_non_oligo_idxs = glioma_metadata_df.loc[glioma_metadata_df['tciaID'].isin(non_oligo_idxs)].index\n",
    "\n",
    "glioma_metadata_df = pd.read_csv('../data/glioma_metadata.csv', index_col=0)\n",
    "glioma_metadata_df.loc[brats_oligo_idxs, '1p19q'] = 1\n",
    "glioma_metadata_df.loc[brats_non_oligo_idxs, '1p19q'] = 0"
   ]
  },
  {
   "cell_type": "code",
   "execution_count": 75,
   "metadata": {},
   "outputs": [],
   "source": [
    "glioma_metadata_df.to_csv('../data/glioma_metadata.csv')"
   ]
  },
  {
   "cell_type": "code",
   "execution_count": 76,
   "metadata": {},
   "outputs": [
    {
     "data": {
      "text/html": [
       "<div>\n",
       "<style scoped>\n",
       "    .dataframe tbody tr th:only-of-type {\n",
       "        vertical-align: middle;\n",
       "    }\n",
       "\n",
       "    .dataframe tbody tr th {\n",
       "        vertical-align: top;\n",
       "    }\n",
       "\n",
       "    .dataframe thead th {\n",
       "        text-align: right;\n",
       "    }\n",
       "</style>\n",
       "<table border=\"1\" class=\"dataframe\">\n",
       "  <thead>\n",
       "    <tr style=\"text-align: right;\">\n",
       "      <th></th>\n",
       "      <th>tciaID</th>\n",
       "      <th>phase</th>\n",
       "      <th>idh</th>\n",
       "      <th>1p19q</th>\n",
       "      <th>BoundingBox</th>\n",
       "      <th>gt_seg</th>\n",
       "      <th>some_seg</th>\n",
       "      <th>OS</th>\n",
       "      <th>OS_EVENT</th>\n",
       "    </tr>\n",
       "  </thead>\n",
       "  <tbody>\n",
       "    <tr>\n",
       "      <th>Brats18_2013_0_1</th>\n",
       "      <td>NaN</td>\n",
       "      <td>unlabeled train</td>\n",
       "      <td>NaN</td>\n",
       "      <td>NaN</td>\n",
       "      <td>(77, 109, 35, 54, 52, 48)</td>\n",
       "      <td>1</td>\n",
       "      <td>1</td>\n",
       "      <td>NaN</td>\n",
       "      <td>NaN</td>\n",
       "    </tr>\n",
       "    <tr>\n",
       "      <th>Brats18_2013_10_1</th>\n",
       "      <td>NaN</td>\n",
       "      <td>unlabeled train</td>\n",
       "      <td>NaN</td>\n",
       "      <td>NaN</td>\n",
       "      <td>(57, 76, 29, 55, 96, 74)</td>\n",
       "      <td>1</td>\n",
       "      <td>1</td>\n",
       "      <td>NaN</td>\n",
       "      <td>NaN</td>\n",
       "    </tr>\n",
       "    <tr>\n",
       "      <th>Brats18_2013_11_1</th>\n",
       "      <td>NaN</td>\n",
       "      <td>unlabeled train</td>\n",
       "      <td>NaN</td>\n",
       "      <td>NaN</td>\n",
       "      <td>(115, 72, 43, 60, 80, 76)</td>\n",
       "      <td>1</td>\n",
       "      <td>1</td>\n",
       "      <td>NaN</td>\n",
       "      <td>NaN</td>\n",
       "    </tr>\n",
       "    <tr>\n",
       "      <th>Brats18_2013_12_1</th>\n",
       "      <td>NaN</td>\n",
       "      <td>unlabeled train</td>\n",
       "      <td>NaN</td>\n",
       "      <td>NaN</td>\n",
       "      <td>(64, 49, 52, 80, 104, 74)</td>\n",
       "      <td>1</td>\n",
       "      <td>1</td>\n",
       "      <td>NaN</td>\n",
       "      <td>NaN</td>\n",
       "    </tr>\n",
       "    <tr>\n",
       "      <th>Brats18_2013_13_1</th>\n",
       "      <td>NaN</td>\n",
       "      <td>unlabeled train</td>\n",
       "      <td>NaN</td>\n",
       "      <td>NaN</td>\n",
       "      <td>(133, 148, 70, 43, 48, 41)</td>\n",
       "      <td>1</td>\n",
       "      <td>1</td>\n",
       "      <td>NaN</td>\n",
       "      <td>NaN</td>\n",
       "    </tr>\n",
       "    <tr>\n",
       "      <th>...</th>\n",
       "      <td>...</td>\n",
       "      <td>...</td>\n",
       "      <td>...</td>\n",
       "      <td>...</td>\n",
       "      <td>...</td>\n",
       "      <td>...</td>\n",
       "      <td>...</td>\n",
       "      <td>...</td>\n",
       "      <td>...</td>\n",
       "    </tr>\n",
       "    <tr>\n",
       "      <th>Brats18_WashU_W051_1</th>\n",
       "      <td>NaN</td>\n",
       "      <td>unlabeled train</td>\n",
       "      <td>NaN</td>\n",
       "      <td>NaN</td>\n",
       "      <td>NaN</td>\n",
       "      <td>0</td>\n",
       "      <td>0</td>\n",
       "      <td>NaN</td>\n",
       "      <td>NaN</td>\n",
       "    </tr>\n",
       "    <tr>\n",
       "      <th>Brats18_WashU_W053_1</th>\n",
       "      <td>NaN</td>\n",
       "      <td>unlabeled train</td>\n",
       "      <td>NaN</td>\n",
       "      <td>NaN</td>\n",
       "      <td>NaN</td>\n",
       "      <td>0</td>\n",
       "      <td>0</td>\n",
       "      <td>NaN</td>\n",
       "      <td>NaN</td>\n",
       "    </tr>\n",
       "    <tr>\n",
       "      <th>Brats18_WashU_W061_1</th>\n",
       "      <td>NaN</td>\n",
       "      <td>unlabeled train</td>\n",
       "      <td>NaN</td>\n",
       "      <td>NaN</td>\n",
       "      <td>NaN</td>\n",
       "      <td>0</td>\n",
       "      <td>0</td>\n",
       "      <td>NaN</td>\n",
       "      <td>NaN</td>\n",
       "    </tr>\n",
       "    <tr>\n",
       "      <th>Brats18_WashU_W065_1</th>\n",
       "      <td>NaN</td>\n",
       "      <td>unlabeled train</td>\n",
       "      <td>NaN</td>\n",
       "      <td>NaN</td>\n",
       "      <td>NaN</td>\n",
       "      <td>0</td>\n",
       "      <td>0</td>\n",
       "      <td>NaN</td>\n",
       "      <td>NaN</td>\n",
       "    </tr>\n",
       "    <tr>\n",
       "      <th>Brats18_WashU_W082_1</th>\n",
       "      <td>NaN</td>\n",
       "      <td>unlabeled train</td>\n",
       "      <td>NaN</td>\n",
       "      <td>NaN</td>\n",
       "      <td>NaN</td>\n",
       "      <td>0</td>\n",
       "      <td>0</td>\n",
       "      <td>NaN</td>\n",
       "      <td>NaN</td>\n",
       "    </tr>\n",
       "  </tbody>\n",
       "</table>\n",
       "<p>542 rows × 9 columns</p>\n",
       "</div>"
      ],
      "text/plain": [
       "                     tciaID            phase  idh  1p19q  \\\n",
       "Brats18_2013_0_1        NaN  unlabeled train  NaN    NaN   \n",
       "Brats18_2013_10_1       NaN  unlabeled train  NaN    NaN   \n",
       "Brats18_2013_11_1       NaN  unlabeled train  NaN    NaN   \n",
       "Brats18_2013_12_1       NaN  unlabeled train  NaN    NaN   \n",
       "Brats18_2013_13_1       NaN  unlabeled train  NaN    NaN   \n",
       "...                     ...              ...  ...    ...   \n",
       "Brats18_WashU_W051_1    NaN  unlabeled train  NaN    NaN   \n",
       "Brats18_WashU_W053_1    NaN  unlabeled train  NaN    NaN   \n",
       "Brats18_WashU_W061_1    NaN  unlabeled train  NaN    NaN   \n",
       "Brats18_WashU_W065_1    NaN  unlabeled train  NaN    NaN   \n",
       "Brats18_WashU_W082_1    NaN  unlabeled train  NaN    NaN   \n",
       "\n",
       "                                     BoundingBox  gt_seg  some_seg  OS  \\\n",
       "Brats18_2013_0_1       (77, 109, 35, 54, 52, 48)       1         1 NaN   \n",
       "Brats18_2013_10_1       (57, 76, 29, 55, 96, 74)       1         1 NaN   \n",
       "Brats18_2013_11_1      (115, 72, 43, 60, 80, 76)       1         1 NaN   \n",
       "Brats18_2013_12_1      (64, 49, 52, 80, 104, 74)       1         1 NaN   \n",
       "Brats18_2013_13_1     (133, 148, 70, 43, 48, 41)       1         1 NaN   \n",
       "...                                          ...     ...       ...  ..   \n",
       "Brats18_WashU_W051_1                         NaN       0         0 NaN   \n",
       "Brats18_WashU_W053_1                         NaN       0         0 NaN   \n",
       "Brats18_WashU_W061_1                         NaN       0         0 NaN   \n",
       "Brats18_WashU_W065_1                         NaN       0         0 NaN   \n",
       "Brats18_WashU_W082_1                         NaN       0         0 NaN   \n",
       "\n",
       "                      OS_EVENT  \n",
       "Brats18_2013_0_1           NaN  \n",
       "Brats18_2013_10_1          NaN  \n",
       "Brats18_2013_11_1          NaN  \n",
       "Brats18_2013_12_1          NaN  \n",
       "Brats18_2013_13_1          NaN  \n",
       "...                        ...  \n",
       "Brats18_WashU_W051_1       NaN  \n",
       "Brats18_WashU_W053_1       NaN  \n",
       "Brats18_WashU_W061_1       NaN  \n",
       "Brats18_WashU_W065_1       NaN  \n",
       "Brats18_WashU_W082_1       NaN  \n",
       "\n",
       "[542 rows x 9 columns]"
      ]
     },
     "execution_count": 76,
     "metadata": {},
     "output_type": "execute_result"
    }
   ],
   "source": [
    "glioma_metadata_df"
   ]
  },
  {
   "cell_type": "code",
   "execution_count": null,
   "metadata": {},
   "outputs": [],
   "source": []
  },
  {
   "cell_type": "code",
   "execution_count": 64,
   "metadata": {},
   "outputs": [
    {
     "data": {
      "text/plain": [
       "28"
      ]
     },
     "execution_count": 64,
     "metadata": {},
     "output_type": "execute_result"
    }
   ],
   "source": [
    "glioma_metadata_df['1p19q']"
   ]
  },
  {
   "cell_type": "code",
   "execution_count": 65,
   "metadata": {},
   "outputs": [
    {
     "data": {
      "text/plain": [
       "210"
      ]
     },
     "execution_count": 65,
     "metadata": {},
     "output_type": "execute_result"
    }
   ],
   "source": [
    "len(non_oligo_idxs)"
   ]
  },
  {
   "cell_type": "code",
   "execution_count": 66,
   "metadata": {},
   "outputs": [
    {
     "data": {
      "text/plain": [
       "238"
      ]
     },
     "execution_count": 66,
     "metadata": {},
     "output_type": "execute_result"
    }
   ],
   "source": [
    "210+28"
   ]
  },
  {
   "cell_type": "code",
   "execution_count": 67,
   "metadata": {},
   "outputs": [
    {
     "data": {
      "text/plain": [
       "235"
      ]
     },
     "execution_count": 67,
     "metadata": {},
     "output_type": "execute_result"
    }
   ],
   "source": [
    "143 + 64 + 28"
   ]
  },
  {
   "cell_type": "code",
   "execution_count": 68,
   "metadata": {},
   "outputs": [
    {
     "data": {
      "text/plain": [
       "Brats18_2013_0_1       NaN\n",
       "Brats18_2013_10_1      NaN\n",
       "Brats18_2013_11_1      NaN\n",
       "Brats18_2013_12_1      NaN\n",
       "Brats18_2013_13_1      NaN\n",
       "                        ..\n",
       "Brats18_WashU_W051_1   NaN\n",
       "Brats18_WashU_W053_1   NaN\n",
       "Brats18_WashU_W061_1   NaN\n",
       "Brats18_WashU_W065_1   NaN\n",
       "Brats18_WashU_W082_1   NaN\n",
       "Name: 1p19q, Length: 542, dtype: float64"
      ]
     },
     "execution_count": 68,
     "metadata": {},
     "output_type": "execute_result"
    }
   ],
   "source": [
    "glioma_metadata_df['1p19q']"
   ]
  },
  {
   "cell_type": "code",
   "execution_count": null,
   "metadata": {},
   "outputs": [],
   "source": [
    "subtype_df.loc[.dropna()]"
   ]
  },
  {
   "cell_type": "code",
   "execution_count": null,
   "metadata": {},
   "outputs": [],
   "source": []
  },
  {
   "cell_type": "code",
   "execution_count": 45,
   "metadata": {},
   "outputs": [
    {
     "data": {
      "text/plain": [
       "243"
      ]
     },
     "execution_count": 45,
     "metadata": {},
     "output_type": "execute_result"
    }
   ],
   "source": [
    "a = [x for x in brats_tcia_idxs if x in tcia_idxs]\n",
    "len(a)"
   ]
  },
  {
   "cell_type": "code",
   "execution_count": null,
   "metadata": {},
   "outputs": [],
   "source": []
  },
  {
   "cell_type": "code",
   "execution_count": 33,
   "metadata": {},
   "outputs": [],
   "source": []
  },
  {
   "cell_type": "code",
   "execution_count": null,
   "metadata": {},
   "outputs": [],
   "source": []
  },
  {
   "cell_type": "code",
   "execution_count": 37,
   "metadata": {},
   "outputs": [
    {
     "data": {
      "text/plain": [
       "Index(['Brats18_TCIA01_131_1', 'Brats18_TCIA01_147_1', 'Brats18_TCIA01_150_1',\n",
       "       'Brats18_TCIA01_180_1', 'Brats18_TCIA01_186_1', 'Brats18_TCIA01_190_1',\n",
       "       'Brats18_TCIA01_201_1', 'Brats18_TCIA01_203_1', 'Brats18_TCIA01_215_1',\n",
       "       'Brats18_TCIA01_221_1',\n",
       "       ...\n",
       "       'Brats18_TCIA13_645_1', 'Brats18_TCIA13_646_1', 'Brats18_TCIA13_648_1',\n",
       "       'Brats18_TCIA13_649_1', 'Brats18_TCIA13_650_1', 'Brats18_TCIA13_651_1',\n",
       "       'Brats18_TCIA13_652_1', 'Brats18_TCIA13_653_1', 'Brats18_TCIA13_654_1',\n",
       "       'Brats18_TCIA13_655_1'],\n",
       "      dtype='object', length=243)"
      ]
     },
     "execution_count": 37,
     "metadata": {},
     "output_type": "execute_result"
    }
   ],
   "source": [
    "glioma_metadata_df['tciaID'].dropna().index"
   ]
  },
  {
   "cell_type": "code",
   "execution_count": null,
   "metadata": {},
   "outputs": [],
   "source": []
  },
  {
   "cell_type": "code",
   "execution_count": null,
   "metadata": {},
   "outputs": [],
   "source": []
  },
  {
   "cell_type": "code",
   "execution_count": null,
   "metadata": {},
   "outputs": [],
   "source": []
  },
  {
   "cell_type": "code",
   "execution_count": 46,
   "metadata": {},
   "outputs": [
    {
     "ename": "KeyError",
     "evalue": "\"['subtype'] not in index\"",
     "output_type": "error",
     "traceback": [
      "\u001b[0;31m---------------------------------------------------------------------------\u001b[0m",
      "\u001b[0;31mKeyError\u001b[0m                                  Traceback (most recent call last)",
      "\u001b[0;32m<ipython-input-46-aa68a65bf9e8>\u001b[0m in \u001b[0;36m<module>\u001b[0;34m\u001b[0m\n\u001b[0;32m----> 1\u001b[0;31m \u001b[0mglioma_metadata_df\u001b[0m\u001b[0;34m[\u001b[0m\u001b[0;34m[\u001b[0m\u001b[0;34m'tciaID'\u001b[0m\u001b[0;34m,\u001b[0m \u001b[0;34m'some_seg'\u001b[0m\u001b[0;34m,\u001b[0m \u001b[0;34m'subtype'\u001b[0m\u001b[0;34m]\u001b[0m\u001b[0;34m]\u001b[0m\u001b[0;34m.\u001b[0m\u001b[0mdropna\u001b[0m\u001b[0;34m(\u001b[0m\u001b[0;34m)\u001b[0m\u001b[0;34m\u001b[0m\u001b[0;34m\u001b[0m\u001b[0m\n\u001b[0m",
      "\u001b[0;32m/app/software/SciPy-bundle/2020.03-foss-2020a-Python-3.8.2/lib/python3.8/site-packages/pandas/core/frame.py\u001b[0m in \u001b[0;36m__getitem__\u001b[0;34m(self, key)\u001b[0m\n\u001b[1;32m   2804\u001b[0m             \u001b[0;32mif\u001b[0m \u001b[0mis_iterator\u001b[0m\u001b[0;34m(\u001b[0m\u001b[0mkey\u001b[0m\u001b[0;34m)\u001b[0m\u001b[0;34m:\u001b[0m\u001b[0;34m\u001b[0m\u001b[0;34m\u001b[0m\u001b[0m\n\u001b[1;32m   2805\u001b[0m                 \u001b[0mkey\u001b[0m \u001b[0;34m=\u001b[0m \u001b[0mlist\u001b[0m\u001b[0;34m(\u001b[0m\u001b[0mkey\u001b[0m\u001b[0;34m)\u001b[0m\u001b[0;34m\u001b[0m\u001b[0;34m\u001b[0m\u001b[0m\n\u001b[0;32m-> 2806\u001b[0;31m             \u001b[0mindexer\u001b[0m \u001b[0;34m=\u001b[0m \u001b[0mself\u001b[0m\u001b[0;34m.\u001b[0m\u001b[0mloc\u001b[0m\u001b[0;34m.\u001b[0m\u001b[0m_get_listlike_indexer\u001b[0m\u001b[0;34m(\u001b[0m\u001b[0mkey\u001b[0m\u001b[0;34m,\u001b[0m \u001b[0maxis\u001b[0m\u001b[0;34m=\u001b[0m\u001b[0;36m1\u001b[0m\u001b[0;34m,\u001b[0m \u001b[0mraise_missing\u001b[0m\u001b[0;34m=\u001b[0m\u001b[0;32mTrue\u001b[0m\u001b[0;34m)\u001b[0m\u001b[0;34m[\u001b[0m\u001b[0;36m1\u001b[0m\u001b[0;34m]\u001b[0m\u001b[0;34m\u001b[0m\u001b[0;34m\u001b[0m\u001b[0m\n\u001b[0m\u001b[1;32m   2807\u001b[0m \u001b[0;34m\u001b[0m\u001b[0m\n\u001b[1;32m   2808\u001b[0m         \u001b[0;31m# take() does not accept boolean indexers\u001b[0m\u001b[0;34m\u001b[0m\u001b[0;34m\u001b[0m\u001b[0;34m\u001b[0m\u001b[0m\n",
      "\u001b[0;32m/app/software/SciPy-bundle/2020.03-foss-2020a-Python-3.8.2/lib/python3.8/site-packages/pandas/core/indexing.py\u001b[0m in \u001b[0;36m_get_listlike_indexer\u001b[0;34m(self, key, axis, raise_missing)\u001b[0m\n\u001b[1;32m   1550\u001b[0m             \u001b[0mkeyarr\u001b[0m\u001b[0;34m,\u001b[0m \u001b[0mindexer\u001b[0m\u001b[0;34m,\u001b[0m \u001b[0mnew_indexer\u001b[0m \u001b[0;34m=\u001b[0m \u001b[0max\u001b[0m\u001b[0;34m.\u001b[0m\u001b[0m_reindex_non_unique\u001b[0m\u001b[0;34m(\u001b[0m\u001b[0mkeyarr\u001b[0m\u001b[0;34m)\u001b[0m\u001b[0;34m\u001b[0m\u001b[0;34m\u001b[0m\u001b[0m\n\u001b[1;32m   1551\u001b[0m \u001b[0;34m\u001b[0m\u001b[0m\n\u001b[0;32m-> 1552\u001b[0;31m         self._validate_read_indexer(\n\u001b[0m\u001b[1;32m   1553\u001b[0m             \u001b[0mkeyarr\u001b[0m\u001b[0;34m,\u001b[0m \u001b[0mindexer\u001b[0m\u001b[0;34m,\u001b[0m \u001b[0mo\u001b[0m\u001b[0;34m.\u001b[0m\u001b[0m_get_axis_number\u001b[0m\u001b[0;34m(\u001b[0m\u001b[0maxis\u001b[0m\u001b[0;34m)\u001b[0m\u001b[0;34m,\u001b[0m \u001b[0mraise_missing\u001b[0m\u001b[0;34m=\u001b[0m\u001b[0mraise_missing\u001b[0m\u001b[0;34m\u001b[0m\u001b[0;34m\u001b[0m\u001b[0m\n\u001b[1;32m   1554\u001b[0m         )\n",
      "\u001b[0;32m/app/software/SciPy-bundle/2020.03-foss-2020a-Python-3.8.2/lib/python3.8/site-packages/pandas/core/indexing.py\u001b[0m in \u001b[0;36m_validate_read_indexer\u001b[0;34m(self, key, indexer, axis, raise_missing)\u001b[0m\n\u001b[1;32m   1644\u001b[0m             \u001b[0;32mif\u001b[0m \u001b[0;32mnot\u001b[0m \u001b[0;34m(\u001b[0m\u001b[0mself\u001b[0m\u001b[0;34m.\u001b[0m\u001b[0mname\u001b[0m \u001b[0;34m==\u001b[0m \u001b[0;34m\"loc\"\u001b[0m \u001b[0;32mand\u001b[0m \u001b[0;32mnot\u001b[0m \u001b[0mraise_missing\u001b[0m\u001b[0;34m)\u001b[0m\u001b[0;34m:\u001b[0m\u001b[0;34m\u001b[0m\u001b[0;34m\u001b[0m\u001b[0m\n\u001b[1;32m   1645\u001b[0m                 \u001b[0mnot_found\u001b[0m \u001b[0;34m=\u001b[0m \u001b[0mlist\u001b[0m\u001b[0;34m(\u001b[0m\u001b[0mset\u001b[0m\u001b[0;34m(\u001b[0m\u001b[0mkey\u001b[0m\u001b[0;34m)\u001b[0m \u001b[0;34m-\u001b[0m \u001b[0mset\u001b[0m\u001b[0;34m(\u001b[0m\u001b[0max\u001b[0m\u001b[0;34m)\u001b[0m\u001b[0;34m)\u001b[0m\u001b[0;34m\u001b[0m\u001b[0;34m\u001b[0m\u001b[0m\n\u001b[0;32m-> 1646\u001b[0;31m                 \u001b[0;32mraise\u001b[0m \u001b[0mKeyError\u001b[0m\u001b[0;34m(\u001b[0m\u001b[0;34mf\"{not_found} not in index\"\u001b[0m\u001b[0;34m)\u001b[0m\u001b[0;34m\u001b[0m\u001b[0;34m\u001b[0m\u001b[0m\n\u001b[0m\u001b[1;32m   1647\u001b[0m \u001b[0;34m\u001b[0m\u001b[0m\n\u001b[1;32m   1648\u001b[0m             \u001b[0;31m# we skip the warning on Categorical/Interval\u001b[0m\u001b[0;34m\u001b[0m\u001b[0;34m\u001b[0m\u001b[0;34m\u001b[0m\u001b[0m\n",
      "\u001b[0;31mKeyError\u001b[0m: \"['subtype'] not in index\""
     ]
    }
   ],
   "source": [
    "glioma_metadata_df[['tciaID', 'some_seg', 'subtype']].dropna()"
   ]
  },
  {
   "cell_type": "code",
   "execution_count": null,
   "metadata": {},
   "outputs": [],
   "source": []
  },
  {
   "cell_type": "code",
   "execution_count": 51,
   "metadata": {},
   "outputs": [
    {
     "data": {
      "text/html": [
       "<div>\n",
       "<style scoped>\n",
       "    .dataframe tbody tr th:only-of-type {\n",
       "        vertical-align: middle;\n",
       "    }\n",
       "\n",
       "    .dataframe tbody tr th {\n",
       "        vertical-align: top;\n",
       "    }\n",
       "\n",
       "    .dataframe thead th {\n",
       "        text-align: right;\n",
       "    }\n",
       "</style>\n",
       "<table border=\"1\" class=\"dataframe\">\n",
       "  <thead>\n",
       "    <tr style=\"text-align: right;\">\n",
       "      <th></th>\n",
       "      <th>tciaID</th>\n",
       "      <th>some_seg</th>\n",
       "      <th>OS</th>\n",
       "    </tr>\n",
       "  </thead>\n",
       "  <tbody>\n",
       "    <tr>\n",
       "      <th>Brats18_TCIA01_131_1</th>\n",
       "      <td>TCGA-02-0070</td>\n",
       "      <td>1</td>\n",
       "      <td>762.0</td>\n",
       "    </tr>\n",
       "    <tr>\n",
       "      <th>Brats18_TCIA01_147_1</th>\n",
       "      <td>TCGA-02-0046</td>\n",
       "      <td>1</td>\n",
       "      <td>209.0</td>\n",
       "    </tr>\n",
       "    <tr>\n",
       "      <th>Brats18_TCIA01_150_1</th>\n",
       "      <td>TCGA-02-0116</td>\n",
       "      <td>1</td>\n",
       "      <td>1489.0</td>\n",
       "    </tr>\n",
       "    <tr>\n",
       "      <th>Brats18_TCIA01_180_1</th>\n",
       "      <td>TCGA-02-0069</td>\n",
       "      <td>1</td>\n",
       "      <td>873.0</td>\n",
       "    </tr>\n",
       "    <tr>\n",
       "      <th>Brats18_TCIA01_186_1</th>\n",
       "      <td>TCGA-02-0027</td>\n",
       "      <td>1</td>\n",
       "      <td>370.0</td>\n",
       "    </tr>\n",
       "    <tr>\n",
       "      <th>...</th>\n",
       "      <td>...</td>\n",
       "      <td>...</td>\n",
       "      <td>...</td>\n",
       "    </tr>\n",
       "    <tr>\n",
       "      <th>Brats18_TCIA13_651_1</th>\n",
       "      <td>TCGA-HT-7860</td>\n",
       "      <td>1</td>\n",
       "      <td>15.0</td>\n",
       "    </tr>\n",
       "    <tr>\n",
       "      <th>Brats18_TCIA13_652_1</th>\n",
       "      <td>TCGA-HT-8107</td>\n",
       "      <td>1</td>\n",
       "      <td>14.0</td>\n",
       "    </tr>\n",
       "    <tr>\n",
       "      <th>Brats18_TCIA13_653_1</th>\n",
       "      <td>TCGA-HT-8111</td>\n",
       "      <td>1</td>\n",
       "      <td>7.0</td>\n",
       "    </tr>\n",
       "    <tr>\n",
       "      <th>Brats18_TCIA13_654_1</th>\n",
       "      <td>TCGA-HT-7690</td>\n",
       "      <td>1</td>\n",
       "      <td>3.0</td>\n",
       "    </tr>\n",
       "    <tr>\n",
       "      <th>Brats18_TCIA13_655_1</th>\n",
       "      <td>TCGA-HT-8106</td>\n",
       "      <td>1</td>\n",
       "      <td>3.0</td>\n",
       "    </tr>\n",
       "  </tbody>\n",
       "</table>\n",
       "<p>235 rows × 3 columns</p>\n",
       "</div>"
      ],
      "text/plain": [
       "                            tciaID  some_seg      OS\n",
       "Brats18_TCIA01_131_1  TCGA-02-0070         1   762.0\n",
       "Brats18_TCIA01_147_1  TCGA-02-0046         1   209.0\n",
       "Brats18_TCIA01_150_1  TCGA-02-0116         1  1489.0\n",
       "Brats18_TCIA01_180_1  TCGA-02-0069         1   873.0\n",
       "Brats18_TCIA01_186_1  TCGA-02-0027         1   370.0\n",
       "...                            ...       ...     ...\n",
       "Brats18_TCIA13_651_1  TCGA-HT-7860         1    15.0\n",
       "Brats18_TCIA13_652_1  TCGA-HT-8107         1    14.0\n",
       "Brats18_TCIA13_653_1  TCGA-HT-8111         1     7.0\n",
       "Brats18_TCIA13_654_1  TCGA-HT-7690         1     3.0\n",
       "Brats18_TCIA13_655_1  TCGA-HT-8106         1     3.0\n",
       "\n",
       "[235 rows x 3 columns]"
      ]
     },
     "execution_count": 51,
     "metadata": {},
     "output_type": "execute_result"
    }
   ],
   "source": [
    "glioma_metadata_df[['tciaID', 'some_seg', 'OS']].dropna() #['tciaID'].dropna()"
   ]
  },
  {
   "cell_type": "code",
   "execution_count": null,
   "metadata": {},
   "outputs": [],
   "source": []
  },
  {
   "cell_type": "code",
   "execution_count": null,
   "metadata": {},
   "outputs": [],
   "source": []
  },
  {
   "cell_type": "code",
   "execution_count": null,
   "metadata": {},
   "outputs": [],
   "source": []
  },
  {
   "cell_type": "code",
   "execution_count": null,
   "metadata": {},
   "outputs": [],
   "source": []
  },
  {
   "cell_type": "code",
   "execution_count": null,
   "metadata": {},
   "outputs": [],
   "source": []
  },
  {
   "cell_type": "code",
   "execution_count": null,
   "metadata": {},
   "outputs": [],
   "source": []
  },
  {
   "cell_type": "code",
   "execution_count": 13,
   "metadata": {},
   "outputs": [
    {
     "data": {
      "text/html": [
       "<div>\n",
       "<style scoped>\n",
       "    .dataframe tbody tr th:only-of-type {\n",
       "        vertical-align: middle;\n",
       "    }\n",
       "\n",
       "    .dataframe tbody tr th {\n",
       "        vertical-align: top;\n",
       "    }\n",
       "\n",
       "    .dataframe thead th {\n",
       "        text-align: right;\n",
       "    }\n",
       "</style>\n",
       "<table border=\"1\" class=\"dataframe\">\n",
       "  <thead>\n",
       "    <tr style=\"text-align: right;\">\n",
       "      <th></th>\n",
       "      <th>tciaID</th>\n",
       "      <th>phase</th>\n",
       "      <th>idh</th>\n",
       "      <th>1p19q</th>\n",
       "      <th>BoundingBox</th>\n",
       "      <th>gt_seg</th>\n",
       "      <th>some_seg</th>\n",
       "      <th>OS</th>\n",
       "      <th>OS_EVENT</th>\n",
       "      <th>idh_cluster</th>\n",
       "    </tr>\n",
       "  </thead>\n",
       "  <tbody>\n",
       "    <tr>\n",
       "      <th>Brats18_2013_0_1</th>\n",
       "      <td>NaN</td>\n",
       "      <td>unlabeled train</td>\n",
       "      <td>NaN</td>\n",
       "      <td>NaN</td>\n",
       "      <td>(77, 109, 35, 54, 52, 48)</td>\n",
       "      <td>1</td>\n",
       "      <td>1</td>\n",
       "      <td>NaN</td>\n",
       "      <td>NaN</td>\n",
       "      <td>NaN</td>\n",
       "    </tr>\n",
       "    <tr>\n",
       "      <th>Brats18_2013_10_1</th>\n",
       "      <td>NaN</td>\n",
       "      <td>unlabeled train</td>\n",
       "      <td>NaN</td>\n",
       "      <td>NaN</td>\n",
       "      <td>(57, 76, 29, 55, 96, 74)</td>\n",
       "      <td>1</td>\n",
       "      <td>1</td>\n",
       "      <td>NaN</td>\n",
       "      <td>NaN</td>\n",
       "      <td>NaN</td>\n",
       "    </tr>\n",
       "    <tr>\n",
       "      <th>Brats18_2013_11_1</th>\n",
       "      <td>NaN</td>\n",
       "      <td>unlabeled train</td>\n",
       "      <td>NaN</td>\n",
       "      <td>NaN</td>\n",
       "      <td>(115, 72, 43, 60, 80, 76)</td>\n",
       "      <td>1</td>\n",
       "      <td>1</td>\n",
       "      <td>NaN</td>\n",
       "      <td>NaN</td>\n",
       "      <td>NaN</td>\n",
       "    </tr>\n",
       "    <tr>\n",
       "      <th>Brats18_2013_12_1</th>\n",
       "      <td>NaN</td>\n",
       "      <td>unlabeled train</td>\n",
       "      <td>NaN</td>\n",
       "      <td>NaN</td>\n",
       "      <td>(64, 49, 52, 80, 104, 74)</td>\n",
       "      <td>1</td>\n",
       "      <td>1</td>\n",
       "      <td>NaN</td>\n",
       "      <td>NaN</td>\n",
       "      <td>NaN</td>\n",
       "    </tr>\n",
       "    <tr>\n",
       "      <th>Brats18_2013_13_1</th>\n",
       "      <td>NaN</td>\n",
       "      <td>unlabeled train</td>\n",
       "      <td>NaN</td>\n",
       "      <td>NaN</td>\n",
       "      <td>(133, 148, 70, 43, 48, 41)</td>\n",
       "      <td>1</td>\n",
       "      <td>1</td>\n",
       "      <td>NaN</td>\n",
       "      <td>NaN</td>\n",
       "      <td>NaN</td>\n",
       "    </tr>\n",
       "    <tr>\n",
       "      <th>...</th>\n",
       "      <td>...</td>\n",
       "      <td>...</td>\n",
       "      <td>...</td>\n",
       "      <td>...</td>\n",
       "      <td>...</td>\n",
       "      <td>...</td>\n",
       "      <td>...</td>\n",
       "      <td>...</td>\n",
       "      <td>...</td>\n",
       "      <td>...</td>\n",
       "    </tr>\n",
       "    <tr>\n",
       "      <th>Brats18_WashU_W051_1</th>\n",
       "      <td>NaN</td>\n",
       "      <td>unlabeled train</td>\n",
       "      <td>NaN</td>\n",
       "      <td>NaN</td>\n",
       "      <td>NaN</td>\n",
       "      <td>0</td>\n",
       "      <td>0</td>\n",
       "      <td>NaN</td>\n",
       "      <td>NaN</td>\n",
       "      <td>NaN</td>\n",
       "    </tr>\n",
       "    <tr>\n",
       "      <th>Brats18_WashU_W053_1</th>\n",
       "      <td>NaN</td>\n",
       "      <td>unlabeled train</td>\n",
       "      <td>NaN</td>\n",
       "      <td>NaN</td>\n",
       "      <td>NaN</td>\n",
       "      <td>0</td>\n",
       "      <td>0</td>\n",
       "      <td>NaN</td>\n",
       "      <td>NaN</td>\n",
       "      <td>NaN</td>\n",
       "    </tr>\n",
       "    <tr>\n",
       "      <th>Brats18_WashU_W061_1</th>\n",
       "      <td>NaN</td>\n",
       "      <td>unlabeled train</td>\n",
       "      <td>NaN</td>\n",
       "      <td>NaN</td>\n",
       "      <td>NaN</td>\n",
       "      <td>0</td>\n",
       "      <td>0</td>\n",
       "      <td>NaN</td>\n",
       "      <td>NaN</td>\n",
       "      <td>NaN</td>\n",
       "    </tr>\n",
       "    <tr>\n",
       "      <th>Brats18_WashU_W065_1</th>\n",
       "      <td>NaN</td>\n",
       "      <td>unlabeled train</td>\n",
       "      <td>NaN</td>\n",
       "      <td>NaN</td>\n",
       "      <td>NaN</td>\n",
       "      <td>0</td>\n",
       "      <td>0</td>\n",
       "      <td>NaN</td>\n",
       "      <td>NaN</td>\n",
       "      <td>NaN</td>\n",
       "    </tr>\n",
       "    <tr>\n",
       "      <th>Brats18_WashU_W082_1</th>\n",
       "      <td>NaN</td>\n",
       "      <td>unlabeled train</td>\n",
       "      <td>NaN</td>\n",
       "      <td>NaN</td>\n",
       "      <td>NaN</td>\n",
       "      <td>0</td>\n",
       "      <td>0</td>\n",
       "      <td>NaN</td>\n",
       "      <td>NaN</td>\n",
       "      <td>NaN</td>\n",
       "    </tr>\n",
       "  </tbody>\n",
       "</table>\n",
       "<p>467 rows × 10 columns</p>\n",
       "</div>"
      ],
      "text/plain": [
       "                     tciaID            phase  idh  1p19q  \\\n",
       "Brats18_2013_0_1        NaN  unlabeled train  NaN    NaN   \n",
       "Brats18_2013_10_1       NaN  unlabeled train  NaN    NaN   \n",
       "Brats18_2013_11_1       NaN  unlabeled train  NaN    NaN   \n",
       "Brats18_2013_12_1       NaN  unlabeled train  NaN    NaN   \n",
       "Brats18_2013_13_1       NaN  unlabeled train  NaN    NaN   \n",
       "...                     ...              ...  ...    ...   \n",
       "Brats18_WashU_W051_1    NaN  unlabeled train  NaN    NaN   \n",
       "Brats18_WashU_W053_1    NaN  unlabeled train  NaN    NaN   \n",
       "Brats18_WashU_W061_1    NaN  unlabeled train  NaN    NaN   \n",
       "Brats18_WashU_W065_1    NaN  unlabeled train  NaN    NaN   \n",
       "Brats18_WashU_W082_1    NaN  unlabeled train  NaN    NaN   \n",
       "\n",
       "                                     BoundingBox  gt_seg  some_seg  OS  \\\n",
       "Brats18_2013_0_1       (77, 109, 35, 54, 52, 48)       1         1 NaN   \n",
       "Brats18_2013_10_1       (57, 76, 29, 55, 96, 74)       1         1 NaN   \n",
       "Brats18_2013_11_1      (115, 72, 43, 60, 80, 76)       1         1 NaN   \n",
       "Brats18_2013_12_1      (64, 49, 52, 80, 104, 74)       1         1 NaN   \n",
       "Brats18_2013_13_1     (133, 148, 70, 43, 48, 41)       1         1 NaN   \n",
       "...                                          ...     ...       ...  ..   \n",
       "Brats18_WashU_W051_1                         NaN       0         0 NaN   \n",
       "Brats18_WashU_W053_1                         NaN       0         0 NaN   \n",
       "Brats18_WashU_W061_1                         NaN       0         0 NaN   \n",
       "Brats18_WashU_W065_1                         NaN       0         0 NaN   \n",
       "Brats18_WashU_W082_1                         NaN       0         0 NaN   \n",
       "\n",
       "                      OS_EVENT  idh_cluster  \n",
       "Brats18_2013_0_1           NaN          NaN  \n",
       "Brats18_2013_10_1          NaN          NaN  \n",
       "Brats18_2013_11_1          NaN          NaN  \n",
       "Brats18_2013_12_1          NaN          NaN  \n",
       "Brats18_2013_13_1          NaN          NaN  \n",
       "...                        ...          ...  \n",
       "Brats18_WashU_W051_1       NaN          NaN  \n",
       "Brats18_WashU_W053_1       NaN          NaN  \n",
       "Brats18_WashU_W061_1       NaN          NaN  \n",
       "Brats18_WashU_W065_1       NaN          NaN  \n",
       "Brats18_WashU_W082_1       NaN          NaN  \n",
       "\n",
       "[467 rows x 10 columns]"
      ]
     },
     "execution_count": 13,
     "metadata": {},
     "output_type": "execute_result"
    }
   ],
   "source": [
    "train_df"
   ]
  },
  {
   "cell_type": "code",
   "execution_count": null,
   "metadata": {},
   "outputs": [],
   "source": []
  },
  {
   "cell_type": "code",
   "execution_count": null,
   "metadata": {},
   "outputs": [],
   "source": []
  },
  {
   "cell_type": "code",
   "execution_count": null,
   "metadata": {},
   "outputs": [],
   "source": []
  },
  {
   "cell_type": "code",
   "execution_count": 4,
   "metadata": {},
   "outputs": [],
   "source": [
    "# # task = '1p19q'\n",
    "# task = 'idh'\n",
    "\n",
    "# best_model_loc = '../pretrained/espnet_3d_brats.pth'\n",
    "\n",
    "# # we are predicting either idh gene mutation or chromosome arm 1p and 19q co-deletion\n",
    "# glioma_metadata_df = pd.read_csv('../../miccai_clean/data/all_glioma_metadata_542x30.csv', index_col=0)\n",
    "# glioma_metadata_df = glioma_metadata_df.rename(columns={'OS.time':'OS', '_EVENT':'OS_EVENT'})\n",
    "\n",
    "# new_glioma_metadata_df = pd.read_csv('../data/glioma_metadata.csv', index_col=0)\n",
    "# new_glioma_metadata_df.loc[['Brats18_TCIA09_462_1', 'Brats18_TCIA10_236_1'], 'idh'] = 1\n",
    "\n",
    "# if task == 'idh':\n",
    "#     classes = ['wildtype', 'mutant']\n",
    "#     val_df = glioma_metadata_df[(glioma_metadata_df['phase'] == 'val') & (glioma_metadata_df['inferred_subtype'] == 0)]\n",
    "\n",
    "# elif task == '1p19q':\n",
    "#     classes = ['non-codel', 'oligo']\n",
    "#     val_df = glioma_metadata_df[(glioma_metadata_df['phase'] == 'val')]\n",
    "\n",
    "# else:\n",
    "#     print('invalid classification given')\n",
    "\n",
    "# # metadata for all brats (including tcia) data\n",
    "\n",
    "# brats2tcia_df = pd.read_csv('../../miccai_clean/data/brats2tcia_df_542x1.csv', index_col=0)\n",
    "\n",
    "# # these are labeled files (they were paths in old dataloader) but they are dataframes\n",
    "# csv_files = {'train':glioma_metadata_df[~glioma_metadata_df['phase'].isin(['val'])],\n",
    "# #               'train':glioma_metadata_df[glioma_metadata_df['phase'].isin(['train'])], \n",
    "#                  'val':val_df,\n",
    "#                  'data':glioma_metadata_df}\n",
    "\n",
    "# # genomic data (you won't need this)\n",
    "# genomic_csv_files = {'train':'../data/MGL/MGL_235x50.csv', \n",
    "#                      'val':  '../data/MGL/MGL_235x50.csv',\n",
    "#                      'data': '../data/MGL/MGL_235x50.csv'}\n",
    "\n",
    "# image_dir = '../data/all_brats_scans/'\n",
    "\n",
    "# # labels we predict during classification \n",
    "# cluster_column= task + '_cluster'\n",
    "\n",
    "# # downsample dim. \n",
    "# resize_shape = (64, 64, 64)\n",
    "\n",
    "# # dataloader batch size\n",
    "# train_batch_size = 4\n",
    "# val_batch_size = 4\n",
    "# data_batch_size = 1\n",
    "\n",
    "# shuffle = True\n",
    "# shuffle_data = True\n",
    "\n",
    "# dataformat = 'modality3D_mtl'\n",
    "# modality = 't1ce'\n",
    "# channels = 1\n",
    "\n",
    "# null_genomic = False\n",
    "\n",
    "# print('Train size', len(csv_files['train']))"
   ]
  },
  {
   "cell_type": "code",
   "execution_count": null,
   "metadata": {},
   "outputs": [],
   "source": []
  },
  {
   "cell_type": "code",
   "execution_count": 5,
   "metadata": {},
   "outputs": [
    {
     "data": {
      "text/html": [
       "<div>\n",
       "<style scoped>\n",
       "    .dataframe tbody tr th:only-of-type {\n",
       "        vertical-align: middle;\n",
       "    }\n",
       "\n",
       "    .dataframe tbody tr th {\n",
       "        vertical-align: top;\n",
       "    }\n",
       "\n",
       "    .dataframe thead th {\n",
       "        text-align: right;\n",
       "    }\n",
       "</style>\n",
       "<table border=\"1\" class=\"dataframe\">\n",
       "  <thead>\n",
       "    <tr style=\"text-align: right;\">\n",
       "      <th></th>\n",
       "      <th>tciaID</th>\n",
       "      <th>phase</th>\n",
       "      <th>idh</th>\n",
       "      <th>1p19q</th>\n",
       "      <th>BoundingBox</th>\n",
       "      <th>gt_seg</th>\n",
       "      <th>some_seg</th>\n",
       "      <th>OS</th>\n",
       "      <th>OS_EVENT</th>\n",
       "      <th>idh_cluster</th>\n",
       "    </tr>\n",
       "  </thead>\n",
       "  <tbody>\n",
       "    <tr>\n",
       "      <th>Brats18_2013_0_1</th>\n",
       "      <td>NaN</td>\n",
       "      <td>unlabeled train</td>\n",
       "      <td>NaN</td>\n",
       "      <td>NaN</td>\n",
       "      <td>(77, 109, 35, 54, 52, 48)</td>\n",
       "      <td>1</td>\n",
       "      <td>1</td>\n",
       "      <td>NaN</td>\n",
       "      <td>NaN</td>\n",
       "      <td>NaN</td>\n",
       "    </tr>\n",
       "    <tr>\n",
       "      <th>Brats18_2013_10_1</th>\n",
       "      <td>NaN</td>\n",
       "      <td>unlabeled train</td>\n",
       "      <td>NaN</td>\n",
       "      <td>NaN</td>\n",
       "      <td>(57, 76, 29, 55, 96, 74)</td>\n",
       "      <td>1</td>\n",
       "      <td>1</td>\n",
       "      <td>NaN</td>\n",
       "      <td>NaN</td>\n",
       "      <td>NaN</td>\n",
       "    </tr>\n",
       "    <tr>\n",
       "      <th>Brats18_2013_11_1</th>\n",
       "      <td>NaN</td>\n",
       "      <td>unlabeled train</td>\n",
       "      <td>NaN</td>\n",
       "      <td>NaN</td>\n",
       "      <td>(115, 72, 43, 60, 80, 76)</td>\n",
       "      <td>1</td>\n",
       "      <td>1</td>\n",
       "      <td>NaN</td>\n",
       "      <td>NaN</td>\n",
       "      <td>NaN</td>\n",
       "    </tr>\n",
       "    <tr>\n",
       "      <th>Brats18_2013_12_1</th>\n",
       "      <td>NaN</td>\n",
       "      <td>unlabeled train</td>\n",
       "      <td>NaN</td>\n",
       "      <td>NaN</td>\n",
       "      <td>(64, 49, 52, 80, 104, 74)</td>\n",
       "      <td>1</td>\n",
       "      <td>1</td>\n",
       "      <td>NaN</td>\n",
       "      <td>NaN</td>\n",
       "      <td>NaN</td>\n",
       "    </tr>\n",
       "    <tr>\n",
       "      <th>Brats18_2013_13_1</th>\n",
       "      <td>NaN</td>\n",
       "      <td>unlabeled train</td>\n",
       "      <td>NaN</td>\n",
       "      <td>NaN</td>\n",
       "      <td>(133, 148, 70, 43, 48, 41)</td>\n",
       "      <td>1</td>\n",
       "      <td>1</td>\n",
       "      <td>NaN</td>\n",
       "      <td>NaN</td>\n",
       "      <td>NaN</td>\n",
       "    </tr>\n",
       "    <tr>\n",
       "      <th>...</th>\n",
       "      <td>...</td>\n",
       "      <td>...</td>\n",
       "      <td>...</td>\n",
       "      <td>...</td>\n",
       "      <td>...</td>\n",
       "      <td>...</td>\n",
       "      <td>...</td>\n",
       "      <td>...</td>\n",
       "      <td>...</td>\n",
       "      <td>...</td>\n",
       "    </tr>\n",
       "    <tr>\n",
       "      <th>Brats18_WashU_W051_1</th>\n",
       "      <td>NaN</td>\n",
       "      <td>unlabeled train</td>\n",
       "      <td>NaN</td>\n",
       "      <td>NaN</td>\n",
       "      <td>NaN</td>\n",
       "      <td>0</td>\n",
       "      <td>0</td>\n",
       "      <td>NaN</td>\n",
       "      <td>NaN</td>\n",
       "      <td>NaN</td>\n",
       "    </tr>\n",
       "    <tr>\n",
       "      <th>Brats18_WashU_W053_1</th>\n",
       "      <td>NaN</td>\n",
       "      <td>unlabeled train</td>\n",
       "      <td>NaN</td>\n",
       "      <td>NaN</td>\n",
       "      <td>NaN</td>\n",
       "      <td>0</td>\n",
       "      <td>0</td>\n",
       "      <td>NaN</td>\n",
       "      <td>NaN</td>\n",
       "      <td>NaN</td>\n",
       "    </tr>\n",
       "    <tr>\n",
       "      <th>Brats18_WashU_W061_1</th>\n",
       "      <td>NaN</td>\n",
       "      <td>unlabeled train</td>\n",
       "      <td>NaN</td>\n",
       "      <td>NaN</td>\n",
       "      <td>NaN</td>\n",
       "      <td>0</td>\n",
       "      <td>0</td>\n",
       "      <td>NaN</td>\n",
       "      <td>NaN</td>\n",
       "      <td>NaN</td>\n",
       "    </tr>\n",
       "    <tr>\n",
       "      <th>Brats18_WashU_W065_1</th>\n",
       "      <td>NaN</td>\n",
       "      <td>unlabeled train</td>\n",
       "      <td>NaN</td>\n",
       "      <td>NaN</td>\n",
       "      <td>NaN</td>\n",
       "      <td>0</td>\n",
       "      <td>0</td>\n",
       "      <td>NaN</td>\n",
       "      <td>NaN</td>\n",
       "      <td>NaN</td>\n",
       "    </tr>\n",
       "    <tr>\n",
       "      <th>Brats18_WashU_W082_1</th>\n",
       "      <td>NaN</td>\n",
       "      <td>unlabeled train</td>\n",
       "      <td>NaN</td>\n",
       "      <td>NaN</td>\n",
       "      <td>NaN</td>\n",
       "      <td>0</td>\n",
       "      <td>0</td>\n",
       "      <td>NaN</td>\n",
       "      <td>NaN</td>\n",
       "      <td>NaN</td>\n",
       "    </tr>\n",
       "  </tbody>\n",
       "</table>\n",
       "<p>542 rows × 10 columns</p>\n",
       "</div>"
      ],
      "text/plain": [
       "                     tciaID            phase  idh  1p19q  \\\n",
       "Brats18_2013_0_1        NaN  unlabeled train  NaN    NaN   \n",
       "Brats18_2013_10_1       NaN  unlabeled train  NaN    NaN   \n",
       "Brats18_2013_11_1       NaN  unlabeled train  NaN    NaN   \n",
       "Brats18_2013_12_1       NaN  unlabeled train  NaN    NaN   \n",
       "Brats18_2013_13_1       NaN  unlabeled train  NaN    NaN   \n",
       "...                     ...              ...  ...    ...   \n",
       "Brats18_WashU_W051_1    NaN  unlabeled train  NaN    NaN   \n",
       "Brats18_WashU_W053_1    NaN  unlabeled train  NaN    NaN   \n",
       "Brats18_WashU_W061_1    NaN  unlabeled train  NaN    NaN   \n",
       "Brats18_WashU_W065_1    NaN  unlabeled train  NaN    NaN   \n",
       "Brats18_WashU_W082_1    NaN  unlabeled train  NaN    NaN   \n",
       "\n",
       "                                     BoundingBox  gt_seg  some_seg  OS  \\\n",
       "Brats18_2013_0_1       (77, 109, 35, 54, 52, 48)       1         1 NaN   \n",
       "Brats18_2013_10_1       (57, 76, 29, 55, 96, 74)       1         1 NaN   \n",
       "Brats18_2013_11_1      (115, 72, 43, 60, 80, 76)       1         1 NaN   \n",
       "Brats18_2013_12_1      (64, 49, 52, 80, 104, 74)       1         1 NaN   \n",
       "Brats18_2013_13_1     (133, 148, 70, 43, 48, 41)       1         1 NaN   \n",
       "...                                          ...     ...       ...  ..   \n",
       "Brats18_WashU_W051_1                         NaN       0         0 NaN   \n",
       "Brats18_WashU_W053_1                         NaN       0         0 NaN   \n",
       "Brats18_WashU_W061_1                         NaN       0         0 NaN   \n",
       "Brats18_WashU_W065_1                         NaN       0         0 NaN   \n",
       "Brats18_WashU_W082_1                         NaN       0         0 NaN   \n",
       "\n",
       "                      OS_EVENT  idh_cluster  \n",
       "Brats18_2013_0_1           NaN          NaN  \n",
       "Brats18_2013_10_1          NaN          NaN  \n",
       "Brats18_2013_11_1          NaN          NaN  \n",
       "Brats18_2013_12_1          NaN          NaN  \n",
       "Brats18_2013_13_1          NaN          NaN  \n",
       "...                        ...          ...  \n",
       "Brats18_WashU_W051_1       NaN          NaN  \n",
       "Brats18_WashU_W053_1       NaN          NaN  \n",
       "Brats18_WashU_W061_1       NaN          NaN  \n",
       "Brats18_WashU_W065_1       NaN          NaN  \n",
       "Brats18_WashU_W082_1       NaN          NaN  \n",
       "\n",
       "[542 rows x 10 columns]"
      ]
     },
     "execution_count": 5,
     "metadata": {},
     "output_type": "execute_result"
    }
   ],
   "source": [
    "glioma_metadata_df"
   ]
  },
  {
   "cell_type": "code",
   "execution_count": null,
   "metadata": {},
   "outputs": [],
   "source": []
  },
  {
   "cell_type": "code",
   "execution_count": null,
   "metadata": {},
   "outputs": [],
   "source": []
  },
  {
   "cell_type": "markdown",
   "metadata": {},
   "source": [
    "# Dataloaders"
   ]
  },
  {
   "cell_type": "code",
   "execution_count": 6,
   "metadata": {},
   "outputs": [
    {
     "data": {
      "text/plain": [
       "['wildtype', 'mutant']"
      ]
     },
     "execution_count": 6,
     "metadata": {},
     "output_type": "execute_result"
    }
   ],
   "source": [
    "# minimal data augmentation (you can add more)\n",
    "train_transformations = myTransforms.Compose([\n",
    "        myTransforms.MinMaxNormalize(),\n",
    "        myTransforms.ScaleToFixed((channels, resize_shape[0],resize_shape[1],resize_shape[2])),\n",
    "#         myTransforms.ZeroChannel(prob_zero=0.5),\n",
    "        myTransforms.ZeroSprinkle(prob_zero=0.2, prob_true=0.8),\n",
    "        myTransforms.ToTensor(),\n",
    "    ])\n",
    "\n",
    "# segmentation masks have separate transformations (you don't want to normalize)\n",
    "seg_transformations = myTransforms.Compose([\n",
    "      myTransforms.ScaleToFixed((1, resize_shape[0],resize_shape[1],resize_shape[2]), \n",
    "                                  interpolation=0, \n",
    "                                  channels=channels),\n",
    "        myTransforms.ToTensor(),\n",
    "    ])\n",
    "\n",
    "val_transformations = myTransforms.Compose([\n",
    "        myTransforms.MinMaxNormalize(),\n",
    "        myTransforms.ScaleToFixed((channels, resize_shape[0],resize_shape[1],resize_shape[2])),\n",
    "        myTransforms.ToTensor(),\n",
    "    ])\n",
    "\n",
    "data_transforms = {'train': train_transformations,\n",
    "                    'val':   val_transformations,\n",
    "                   'seg': seg_transformations }\n",
    "\n",
    "\n",
    "\n",
    "best_model_loc = '../pretrained/espnet_3d_brats.pth'\n",
    "\n",
    "# 'jointmodel' dataformat returns entire MR images (but with the black padding cropped out)\n",
    "transformed_dataset_train = GeneralDataset(csv_file=train_df,\n",
    "                                           root_dir=image_dir,\n",
    "                                           genomic_csv_file = genomic_csv_files['train'],\n",
    "                                           transform=data_transforms['train'],\n",
    "                                           seg_transform=data_transforms['seg'],\n",
    "                                           seg_probs_transform=data_transforms['seg'],\n",
    "                                           classes=classes,\n",
    "                                           dataformat=dataformat,\n",
    "                                           returndims=resize_shape,\n",
    "                                           label=cluster_column,\n",
    "                                           brats2tcia_df=brats2tcia_df,\n",
    "                                           null_genomic = null_genomic,\n",
    "                                           pretrained=best_model_loc,\n",
    "                                           device=device,\n",
    "                                           modality=modality)\n",
    "\n",
    "transformed_dataset_val = GeneralDataset(csv_file=val_df,\n",
    "                                         root_dir=image_dir,\n",
    "                                         genomic_csv_file = genomic_csv_files['val'],\n",
    "                                         transform=data_transforms['val'],\n",
    "                                         seg_transform=data_transforms['seg'],\n",
    "                                         seg_probs_transform=data_transforms['seg'],\n",
    "                                         classes=classes,\n",
    "                                         dataformat=dataformat,\n",
    "                                         returndims=resize_shape,\n",
    "                                         label=cluster_column,\n",
    "                                         brats2tcia_df=brats2tcia_df,\n",
    "                                         null_genomic = null_genomic,\n",
    "                                         pretrained=best_model_loc,\n",
    "                                         device=device,\n",
    "                                         modality=modality)\n",
    "\n",
    "\n",
    "image_datasets = {'train':transformed_dataset_train, \n",
    "                  'val':transformed_dataset_val}\n",
    "\n",
    "\n",
    "dataloader_train = DataLoader(image_datasets['train'], batch_size=train_batch_size, shuffle=shuffle, num_workers=4, drop_last=True)\n",
    "dataloader_val = DataLoader(image_datasets['val'], batch_size=val_batch_size, shuffle=shuffle, num_workers=4)\n",
    "\n",
    "dataloaders = {'train':dataloader_train, 'val':dataloader_val}\n",
    "\n",
    "dataset_sizes = {'train':len(image_datasets['train']), 'val':len(image_datasets['val'])}\n",
    "\n",
    "class_names = image_datasets['train'].classes\n",
    "class_names"
   ]
  },
  {
   "cell_type": "code",
   "execution_count": 7,
   "metadata": {},
   "outputs": [
    {
     "data": {
      "text/plain": [
       "467"
      ]
     },
     "execution_count": 7,
     "metadata": {},
     "output_type": "execute_result"
    }
   ],
   "source": [
    "dataset_sizes['train']"
   ]
  },
  {
   "cell_type": "code",
   "execution_count": 8,
   "metadata": {},
   "outputs": [],
   "source": [
    "# for i, data in tqdm(enumerate(dataloaders['train'])):\n",
    "#     print('itr', i)\n",
    "#     (inputs, seg_image, genomic_data, seg_probs), labels,(OS, event), bratsID = data\n",
    "#     inputs, labels = inputs.to(device), labels.to(device)\n",
    "#     OS, event = OS.to(device), event.to(device)\n",
    "#     seg_image, seg_probs, genomic_data = seg_image.to(device), seg_probs.to(device), genomic_data.to(device)\n",
    "#     seg_image = seg_image.squeeze(1)\n",
    "#     seg_image = seg_image.type(torch.int64)\n",
    "    \n",
    "# # #     from models import ESPNet as Net\n",
    "# # #     best_model_loc = '../pretrained/espnet_3d_brats.pth'\n",
    "# # #     classes = 4\n",
    "# # #     channels = 4\n",
    "\n",
    "\n",
    "# # #     espnet = Net.ESPNet(classes=classes, channels=channels)\n",
    "# # #     if os.path.isfile(best_model_loc):\n",
    "# # #         espnet.load_state_dict(torch.load(best_model_loc, map_location=device))\n",
    "\n",
    "\n",
    "# # #     level0_weight = espnet.level0.conv.weight[:, 0].unsqueeze(1)\n",
    "# # #     espnet.level0.conv = nn.Conv3d(1, 16, kernel_size=(7, 7, 7), \n",
    "# # #                                              stride=(2, 2, 2), padding=(3, 3, 3), bias=False)\n",
    "\n",
    "# # #     espnet.level0.conv.weight = nn.Parameter(level0_weight)\n",
    "\n",
    "# # #     espnet = espnet.to(device) \n",
    "\n",
    "# # #     output = espnet(inputs)\n",
    "\n",
    "# # #     seg_img = output.mask_out.max(1)[1].data.byte().cpu().numpy()\n",
    "    \n",
    "#     break"
   ]
  },
  {
   "cell_type": "code",
   "execution_count": null,
   "metadata": {},
   "outputs": [],
   "source": []
  },
  {
   "cell_type": "code",
   "execution_count": null,
   "metadata": {},
   "outputs": [],
   "source": []
  },
  {
   "cell_type": "markdown",
   "metadata": {},
   "source": [
    "# Class weights"
   ]
  },
  {
   "cell_type": "code",
   "execution_count": 9,
   "metadata": {},
   "outputs": [],
   "source": [
    "# num_classes = 2\n",
    "# best_model_loc = '../pretrained/espnet_3d_brats.pth'\n",
    "\n",
    "# train_df = csv_files['train']\n",
    "# cluster_df = train_df[train_df['phase'] == 'train']['idh_cluster']\n",
    "\n",
    "# _, cnts = np.unique(cluster_df, return_counts=True)\n",
    "# loss_weights = (np.ones(num_classes)/cnts)*np.max(cnts) ## \n",
    "# loss_weights = torch.FloatTensor(loss_weights).to(device)\n",
    "# print('subtype class weights:', loss_weights)"
   ]
  },
  {
   "cell_type": "code",
   "execution_count": null,
   "metadata": {},
   "outputs": [],
   "source": []
  },
  {
   "cell_type": "code",
   "execution_count": 10,
   "metadata": {},
   "outputs": [
    {
     "name": "stdout",
     "output_type": "stream",
     "text": [
      "subtype class weights: tensor([1.0000, 1.6667], device='cuda:0')\n"
     ]
    }
   ],
   "source": [
    "num_classes = 2\n",
    "loss_weights = [1.0000, 1.6667]\n",
    "loss_weights = torch.FloatTensor(loss_weights).to(device)\n",
    "print('subtype class weights:', loss_weights)"
   ]
  },
  {
   "cell_type": "code",
   "execution_count": null,
   "metadata": {},
   "outputs": [],
   "source": []
  },
  {
   "cell_type": "code",
   "execution_count": null,
   "metadata": {},
   "outputs": [],
   "source": []
  },
  {
   "cell_type": "markdown",
   "metadata": {},
   "source": [
    "# Training"
   ]
  },
  {
   "cell_type": "code",
   "execution_count": 11,
   "metadata": {},
   "outputs": [
    {
     "name": "stdout",
     "output_type": "stream",
     "text": [
      "tensorboad: 3D_idh_t1ce_mtl_64x64x64_genomic\n"
     ]
    }
   ],
   "source": [
    "seg_loss_weight = 1\n",
    "surv_loss_weight = 1\n",
    "\n",
    "from torch.utils.tensorboard import SummaryWriter\n",
    "img_dims = str(resize_shape[0]) + 'x' + str(resize_shape[1]) + 'x' + str(resize_shape[2])\n",
    "model_outfile_dir = '3D_' + task + '_'+modality+'_mtl_' + img_dims + '_genomic'\n",
    "print('tensorboad:', model_outfile_dir)\n",
    "writer = SummaryWriter('runs1/'+model_outfile_dir)"
   ]
  },
  {
   "cell_type": "code",
   "execution_count": 12,
   "metadata": {
    "scrolled": true
   },
   "outputs": [
    {
     "name": "stderr",
     "output_type": "stream",
     "text": [
      "\r",
      "  0%|          | 0/20 [00:00<?, ?it/s]"
     ]
    },
    {
     "name": "stdout",
     "output_type": "stream",
     "text": [
      "seg_4class_weights: tensor([  1.0000, 124.3847,  60.4277, 188.0025], device='cuda:0')\n",
      "seg_2class_weights: tensor([ 1.0000, 33.4366], device='cuda:0')\n",
      "Iteration 0\n",
      "GBMNet!\n",
      "Segmentation model will only use one modality (channel)\n",
      "training . . . \n",
      "before epochs\n",
      "  >> val_loss 0.3297903113445993 epoch 0\n",
      "  >> val AUC  0.9664351851851852 | mean acc auc 0.9490740740740742 | acc 0.931712962962963 | epoch 0\n",
      "New Best AUC-acc average:\t 0.9490740740740742 \tin epoch 0\n",
      "New Best Dice:\t 0.4640630003493564 \tin epoch 0\n"
     ]
    },
    {
     "name": "stderr",
     "output_type": "stream",
     "text": [
      "\r",
      "  5%|▌         | 1/20 [01:14<23:41, 74.81s/it]"
     ]
    },
    {
     "name": "stdout",
     "output_type": "stream",
     "text": [
      "New Best ACC:\t 0.931712962962963 \tin epoch 0\n"
     ]
    },
    {
     "name": "stderr",
     "output_type": "stream",
     "text": [
      "  5%|▌         | 1/20 [01:19<25:17, 79.87s/it]\n"
     ]
    },
    {
     "ename": "KeyboardInterrupt",
     "evalue": "",
     "output_type": "error",
     "traceback": [
      "\u001b[0;31m---------------------------------------------------------------------------\u001b[0m",
      "\u001b[0;31mKeyboardInterrupt\u001b[0m                         Traceback (most recent call last)",
      "\u001b[0;32m<ipython-input-12-f273fffd6839>\u001b[0m in \u001b[0;36m<module>\u001b[0;34m\u001b[0m\n\u001b[1;32m     53\u001b[0m \u001b[0;34m\u001b[0m\u001b[0m\n\u001b[1;32m     54\u001b[0m     \u001b[0;32mfrom\u001b[0m \u001b[0mtrain_mtl\u001b[0m \u001b[0;32mimport\u001b[0m \u001b[0mtrain\u001b[0m\u001b[0;34m\u001b[0m\u001b[0;34m\u001b[0m\u001b[0m\n\u001b[0;32m---> 55\u001b[0;31m     model, best_wts, best_auc, best_acc, best_auc_acc = train(model=gbm_net, \n\u001b[0m\u001b[1;32m     56\u001b[0m                    \u001b[0mdataloaders\u001b[0m\u001b[0;34m=\u001b[0m\u001b[0mdataloaders\u001b[0m\u001b[0;34m,\u001b[0m\u001b[0;34m\u001b[0m\u001b[0;34m\u001b[0m\u001b[0m\n\u001b[1;32m     57\u001b[0m                    \u001b[0mdata_transforms\u001b[0m\u001b[0;34m=\u001b[0m\u001b[0mdata_transforms\u001b[0m\u001b[0;34m,\u001b[0m\u001b[0;34m\u001b[0m\u001b[0;34m\u001b[0m\u001b[0m\n",
      "\u001b[0;32m/fh/fast/holland_e/grp/HollandLabShared/Nicholas/repos/glioma_mtl/train_mtl.py\u001b[0m in \u001b[0;36mtrain\u001b[0;34m(model, dataloaders, data_transforms, optimizer, scheduler, dataset_sizes, writer, num_epochs, verbose, device, channels, classes, pad, weight_dir, weight_outfile_prefix, pretrained)\u001b[0m\n\u001b[1;32m    134\u001b[0m             \u001b[0moptimizer\u001b[0m\u001b[0;34m.\u001b[0m\u001b[0mzero_grad\u001b[0m\u001b[0;34m(\u001b[0m\u001b[0;34m)\u001b[0m\u001b[0;34m\u001b[0m\u001b[0;34m\u001b[0m\u001b[0m\n\u001b[1;32m    135\u001b[0m             \u001b[0mloss\u001b[0m\u001b[0;34m.\u001b[0m\u001b[0mbackward\u001b[0m\u001b[0;34m(\u001b[0m\u001b[0;34m)\u001b[0m\u001b[0;34m\u001b[0m\u001b[0;34m\u001b[0m\u001b[0m\n\u001b[0;32m--> 136\u001b[0;31m             \u001b[0moptimizer\u001b[0m\u001b[0;34m.\u001b[0m\u001b[0mstep\u001b[0m\u001b[0;34m(\u001b[0m\u001b[0;34m)\u001b[0m\u001b[0;34m\u001b[0m\u001b[0;34m\u001b[0m\u001b[0m\n\u001b[0m\u001b[1;32m    137\u001b[0m \u001b[0;34m\u001b[0m\u001b[0m\n\u001b[1;32m    138\u001b[0m             \u001b[0;31m# running_loss += loss.item() * inputs.size(0)\u001b[0m\u001b[0;34m\u001b[0m\u001b[0;34m\u001b[0m\u001b[0;34m\u001b[0m\u001b[0m\n",
      "\u001b[0;32m/app/software/fhPython/3.8.2-foss-2020a-Python-3.8.2/lib/python3.8/site-packages/torch/autograd/grad_mode.py\u001b[0m in \u001b[0;36mdecorate_context\u001b[0;34m(*args, **kwargs)\u001b[0m\n\u001b[1;32m     13\u001b[0m         \u001b[0;32mdef\u001b[0m \u001b[0mdecorate_context\u001b[0m\u001b[0;34m(\u001b[0m\u001b[0;34m*\u001b[0m\u001b[0margs\u001b[0m\u001b[0;34m,\u001b[0m \u001b[0;34m**\u001b[0m\u001b[0mkwargs\u001b[0m\u001b[0;34m)\u001b[0m\u001b[0;34m:\u001b[0m\u001b[0;34m\u001b[0m\u001b[0;34m\u001b[0m\u001b[0m\n\u001b[1;32m     14\u001b[0m             \u001b[0;32mwith\u001b[0m \u001b[0mself\u001b[0m\u001b[0;34m:\u001b[0m\u001b[0;34m\u001b[0m\u001b[0;34m\u001b[0m\u001b[0m\n\u001b[0;32m---> 15\u001b[0;31m                 \u001b[0;32mreturn\u001b[0m \u001b[0mfunc\u001b[0m\u001b[0;34m(\u001b[0m\u001b[0;34m*\u001b[0m\u001b[0margs\u001b[0m\u001b[0;34m,\u001b[0m \u001b[0;34m**\u001b[0m\u001b[0mkwargs\u001b[0m\u001b[0;34m)\u001b[0m\u001b[0;34m\u001b[0m\u001b[0;34m\u001b[0m\u001b[0m\n\u001b[0m\u001b[1;32m     16\u001b[0m         \u001b[0;32mreturn\u001b[0m \u001b[0mdecorate_context\u001b[0m\u001b[0;34m\u001b[0m\u001b[0;34m\u001b[0m\u001b[0m\n\u001b[1;32m     17\u001b[0m \u001b[0;34m\u001b[0m\u001b[0m\n",
      "\u001b[0;32m/app/software/fhPython/3.8.2-foss-2020a-Python-3.8.2/lib/python3.8/site-packages/torch/optim/adam.py\u001b[0m in \u001b[0;36mstep\u001b[0;34m(self, closure)\u001b[0m\n\u001b[1;32m    105\u001b[0m                     \u001b[0mdenom\u001b[0m \u001b[0;34m=\u001b[0m \u001b[0;34m(\u001b[0m\u001b[0mmax_exp_avg_sq\u001b[0m\u001b[0;34m.\u001b[0m\u001b[0msqrt\u001b[0m\u001b[0;34m(\u001b[0m\u001b[0;34m)\u001b[0m \u001b[0;34m/\u001b[0m \u001b[0mmath\u001b[0m\u001b[0;34m.\u001b[0m\u001b[0msqrt\u001b[0m\u001b[0;34m(\u001b[0m\u001b[0mbias_correction2\u001b[0m\u001b[0;34m)\u001b[0m\u001b[0;34m)\u001b[0m\u001b[0;34m.\u001b[0m\u001b[0madd_\u001b[0m\u001b[0;34m(\u001b[0m\u001b[0mgroup\u001b[0m\u001b[0;34m[\u001b[0m\u001b[0;34m'eps'\u001b[0m\u001b[0;34m]\u001b[0m\u001b[0;34m)\u001b[0m\u001b[0;34m\u001b[0m\u001b[0;34m\u001b[0m\u001b[0m\n\u001b[1;32m    106\u001b[0m                 \u001b[0;32melse\u001b[0m\u001b[0;34m:\u001b[0m\u001b[0;34m\u001b[0m\u001b[0;34m\u001b[0m\u001b[0m\n\u001b[0;32m--> 107\u001b[0;31m                     \u001b[0mdenom\u001b[0m \u001b[0;34m=\u001b[0m \u001b[0;34m(\u001b[0m\u001b[0mexp_avg_sq\u001b[0m\u001b[0;34m.\u001b[0m\u001b[0msqrt\u001b[0m\u001b[0;34m(\u001b[0m\u001b[0;34m)\u001b[0m \u001b[0;34m/\u001b[0m \u001b[0mmath\u001b[0m\u001b[0;34m.\u001b[0m\u001b[0msqrt\u001b[0m\u001b[0;34m(\u001b[0m\u001b[0mbias_correction2\u001b[0m\u001b[0;34m)\u001b[0m\u001b[0;34m)\u001b[0m\u001b[0;34m.\u001b[0m\u001b[0madd_\u001b[0m\u001b[0;34m(\u001b[0m\u001b[0mgroup\u001b[0m\u001b[0;34m[\u001b[0m\u001b[0;34m'eps'\u001b[0m\u001b[0;34m]\u001b[0m\u001b[0;34m)\u001b[0m\u001b[0;34m\u001b[0m\u001b[0;34m\u001b[0m\u001b[0m\n\u001b[0m\u001b[1;32m    108\u001b[0m \u001b[0;34m\u001b[0m\u001b[0m\n\u001b[1;32m    109\u001b[0m                 \u001b[0mstep_size\u001b[0m \u001b[0;34m=\u001b[0m \u001b[0mgroup\u001b[0m\u001b[0;34m[\u001b[0m\u001b[0;34m'lr'\u001b[0m\u001b[0;34m]\u001b[0m \u001b[0;34m/\u001b[0m \u001b[0mbias_correction1\u001b[0m\u001b[0;34m\u001b[0m\u001b[0;34m\u001b[0m\u001b[0m\n",
      "\u001b[0;31mKeyboardInterrupt\u001b[0m: "
     ]
    }
   ],
   "source": [
    "best_auc_list, best_acc_list, best_auc_acc_list = [], [], []\n",
    "epochs = 20\n",
    "iterations = 10\n",
    "\n",
    "brats_seg_ids = glioma_metadata_df[glioma_metadata_df['gt_seg'] == 1].index\n",
    "\n",
    "seg_4class_weights = np.load('../data/segmentation_notcropped_4-class_weights.npy')\n",
    "seg_4class_weights = torch.FloatTensor(seg_4class_weights).to(device)\n",
    "print('seg_4class_weights:', seg_4class_weights)\n",
    "\n",
    "seg_2class_weights = np.load('../data/segmentation_notcropped_2-class_weights.npy')\n",
    "seg_2class_weights = torch.FloatTensor(seg_2class_weights).to(device)\n",
    "print('seg_2class_weights:', seg_2class_weights)\n",
    "\n",
    "for i in range(iterations):\n",
    "    print('Iteration', i)\n",
    "    \n",
    "\n",
    "    from models.nick_mtl_model import GBMNetMTL\n",
    "    gbm_net = GBMNetMTL(g_in_features=50, \n",
    "                        g_out_features=128, \n",
    "                        n_classes=num_classes, \n",
    "                        n_volumes=1, \n",
    "                        seg_classes=4, \n",
    "                        pretrained=best_model_loc, \n",
    "                        class_loss_weights = loss_weights,\n",
    "                        seg_4class_weights=seg_4class_weights,\n",
    "                        seg_2class_weights=seg_2class_weights,\n",
    "                        seg_loss_scale=seg_loss_weight,\n",
    "                        surv_loss_scale=surv_loss_weight,\n",
    "                        device = device,\n",
    "                        brats_seg_ids=brats_seg_ids,\n",
    "                        standard_unlabled_loss=False,\n",
    "                        fusion_net_flag=True,\n",
    "                        modality=modality,\n",
    "                        take_surv_loss=False) # might have to put loss_weights on device.\n",
    "\n",
    "    gbm_net = gbm_net.to(device)\n",
    "\n",
    "    optimizer_gbmnet = optim.Adam(gbm_net.parameters(), lr=0.0005) # change to adami\n",
    "#     exp_scheduler = optim.lr_scheduler.StepLR(optimizer_gbmnet, step_size=7, gamma=0.1)\n",
    "    \n",
    "    exp_scheduler = optim.lr_scheduler.ReduceLROnPlateau(optimizer=optimizer_gbmnet, \n",
    "                                                         mode='min', \n",
    "                                                         factor=0.1, \n",
    "                                                         patience=10, # number of epochs with no change \n",
    "                                                         verbose=True, \n",
    "                                                         threshold=0.0001, \n",
    "                                                         threshold_mode='rel', \n",
    "                                                         cooldown=0, \n",
    "                                                         min_lr=0, \n",
    "                                                         eps=1e-08)\n",
    "\n",
    "    from train_mtl import train\n",
    "    model, best_wts, best_auc, best_acc, best_auc_acc = train(model=gbm_net, \n",
    "                   dataloaders=dataloaders,\n",
    "                   data_transforms=data_transforms,\n",
    "                   optimizer=optimizer_gbmnet, \n",
    "                   scheduler=exp_scheduler,\n",
    "                   writer=writer,\n",
    "                   num_epochs=epochs, \n",
    "                   verbose=False, \n",
    "                   device=device,\n",
    "                   dataset_sizes=dataset_sizes,\n",
    "                   channels=1,\n",
    "                   classes=class_names,\n",
    "                   weight_outfile_prefix=model_outfile_dir,\n",
    "                   pad=0)\n",
    "\n",
    "    \n",
    "    del gbm_net\n",
    "    del model\n",
    "    \n",
    "    best_auc_list.append(best_auc)\n",
    "    best_acc_list.append(best_acc)\n",
    "    best_auc_acc_list.append(best_auc_acc)\n",
    "    \n",
    "    if not os.path.exists('../model_weights/results/'):\n",
    "        os.makedirs('../model_weights/results/')\n",
    "    \n",
    "    results_outfile_dir = model_outfile_dir + '_epochs-' + str(epochs) +'_iterations-' + str(iterations)\n",
    "    with open('../model_weights/results/auc_' + results_outfile_dir + '.txt', \"wb\") as fp:   #Pickling\n",
    "        pickle.dump(best_auc_list, fp)\n",
    "    with open('../model_weights/results/acc_' + results_outfile_dir + '.txt', \"wb\") as fp:   #Pickling\n",
    "        pickle.dump(best_acc_list, fp)\n",
    "    with open('../model_weights/results/avg_auc_acc_' + results_outfile_dir + '.txt', \"wb\") as fp:   #Pickling\n",
    "        pickle.dump(best_auc_acc_list, fp)"
   ]
  },
  {
   "cell_type": "code",
   "execution_count": null,
   "metadata": {},
   "outputs": [],
   "source": []
  },
  {
   "cell_type": "code",
   "execution_count": null,
   "metadata": {},
   "outputs": [],
   "source": []
  },
  {
   "cell_type": "code",
   "execution_count": null,
   "metadata": {},
   "outputs": [],
   "source": []
  }
 ],
 "metadata": {
  "kernelspec": {
   "display_name": "Python 3",
   "language": "python",
   "name": "python3"
  },
  "language_info": {
   "codemirror_mode": {
    "name": "ipython",
    "version": 3
   },
   "file_extension": ".py",
   "mimetype": "text/x-python",
   "name": "python",
   "nbconvert_exporter": "python",
   "pygments_lexer": "ipython3",
   "version": "3.8.2"
  }
 },
 "nbformat": 4,
 "nbformat_minor": 2
}
