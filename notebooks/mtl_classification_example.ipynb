{
 "cells": [
  {
   "cell_type": "markdown",
   "metadata": {},
   "source": [
    "TODO\n",
    "- genomic data needs to be PCA and split up into train/val/data\n",
    "- get rid of acc"
   ]
  },
  {
   "cell_type": "markdown",
   "metadata": {},
   "source": [
    "```\n",
    "GeneralDataset\n",
    "get_transformations\n",
    "get_data_splits, get_input_params\n",
    "mtl_experiment\n",
    "```"
   ]
  },
  {
   "cell_type": "code",
   "execution_count": 1,
   "metadata": {},
   "outputs": [],
   "source": [
    "import sys\n",
    "sys.path.append('../')\n",
    "\n",
    "import pandas as pd\n",
    "import numpy as np\n",
    "\n",
    "import torch\n",
    "from torch.utils.data import DataLoader\n",
    "from torch.utils.tensorboard import SummaryWriter\n",
    "\n",
    "from datasets import GeneralDataset\n",
    "from Transforms import get_transformations\n",
    "from utils import get_data_splits, get_input_params\n",
    "from train_mtl import mtl_experiment\n",
    "\n",
    "import matplotlib.pyplot as plt\n",
    "%matplotlib inline\n",
    "\n",
    "%load_ext autoreload\n",
    "%autoreload 2"
   ]
  },
  {
   "cell_type": "code",
   "execution_count": 2,
   "metadata": {
    "scrolled": true
   },
   "outputs": [
    {
     "data": {
      "text/plain": [
       "device(type='cuda', index=0)"
      ]
     },
     "execution_count": 2,
     "metadata": {},
     "output_type": "execute_result"
    }
   ],
   "source": [
    "device = torch.device(\"cuda:0\" if torch.cuda.is_available() else \"cpu\")\n",
    "device"
   ]
  },
  {
   "cell_type": "markdown",
   "metadata": {},
   "source": [
    "Choose parameters\n",
    "- 4 channel full resolution:\n",
    "```python\n",
    "    task \\in ['idh', '1p19q']\n",
    "    dataformat \\in ['raw3D', 'crop3Dslice', 'modality3D']\n",
    "    modality \\in ['all', 't1ce', 'flair', 't2', 't1', 't1ce-t1']\n",
    "    include_genomic_data \\in [True, False]\n",
    "```"
   ]
  },
  {
   "cell_type": "code",
   "execution_count": 4,
   "metadata": {},
   "outputs": [],
   "source": [
    "task = 'idh'\n",
    "dataformat = 'crop3Dslice'\n",
    "modality = 'all' # only relevent for 'modality3D' dataformat\n",
    "include_genomic_data = False # don't include genomic data\n",
    "\n",
    "dataformat, channels, resize_shape = get_input_params(dataformat)"
   ]
  },
  {
   "cell_type": "code",
   "execution_count": null,
   "metadata": {},
   "outputs": [],
   "source": []
  },
  {
   "cell_type": "code",
   "execution_count": 5,
   "metadata": {},
   "outputs": [
    {
     "name": "stdout",
     "output_type": "stream",
     "text": [
      "task:\t\t idh\n",
      "dataformat:\t cropped3D_mtl\n",
      "channels:\t 4\n",
      "modality:\t all\n",
      "resize_shape:\t (64, 64, 64)\n",
      "include_genomic_data:\t False\n"
     ]
    }
   ],
   "source": [
    "print('task:\\t\\t', task)\n",
    "print('dataformat:\\t', dataformat)\n",
    "print('channels:\\t', channels)\n",
    "print('modality:\\t', modality)\n",
    "print('resize_shape:\\t', resize_shape)\n",
    "print('include_genomic_data:\\t', include_genomic_data)"
   ]
  },
  {
   "cell_type": "code",
   "execution_count": null,
   "metadata": {},
   "outputs": [],
   "source": []
  },
  {
   "cell_type": "code",
   "execution_count": 6,
   "metadata": {},
   "outputs": [
    {
     "name": "stdout",
     "output_type": "stream",
     "text": [
      "Train size 112\n"
     ]
    }
   ],
   "source": [
    "# MRI directory\n",
    "image_dir = '../data/all_brats_scans/'\n",
    "\n",
    "# metadata for all brats (including tcia) data\n",
    "## including: map from bratsIDs to tciaIDs; IDH & 1p/19q labels, and survival labels\n",
    "best_model_loc = '../pretrained/espnet_3d_brats.pth' # segmentation model weights\n",
    "glioma_metadata_df = pd.read_csv('../data/glioma_metadata.csv', index_col=0) # metadata file\n",
    "glioma_metadata_df = glioma_metadata_df.drop(columns=['BoundingBox', 'some_seg', 'subtype'])\n",
    "\n",
    "# get training splits\n",
    "train_df, val_df, classes = get_data_splits(metadata_df=glioma_metadata_df, task=task, mtl=False)\n",
    "\n",
    "# map between brats dataset and tcia data (tcia data is avalible for a subset of the brats patients)\n",
    "brats2tcia_df = glioma_metadata_df['tciaID']\n",
    "\n",
    "# these are labeled files (they were paths in old dataloader) but they are dataframes\n",
    "labels_dict = {'train':train_df, 'val':val_df, 'data':glioma_metadata_df}\n",
    "\n",
    "genomic_data_dict = {'train':'../data/MGL/MGL_235x50.csv', 'val':'../data/MGL/MGL_235x50.csv'}\n",
    "\n",
    "label = task\n",
    "\n",
    "print('Train size', len(train_df))"
   ]
  },
  {
   "cell_type": "code",
   "execution_count": 7,
   "metadata": {},
   "outputs": [
    {
     "data": {
      "text/html": [
       "<div>\n",
       "<style scoped>\n",
       "    .dataframe tbody tr th:only-of-type {\n",
       "        vertical-align: middle;\n",
       "    }\n",
       "\n",
       "    .dataframe tbody tr th {\n",
       "        vertical-align: top;\n",
       "    }\n",
       "\n",
       "    .dataframe thead th {\n",
       "        text-align: right;\n",
       "    }\n",
       "</style>\n",
       "<table border=\"1\" class=\"dataframe\">\n",
       "  <thead>\n",
       "    <tr style=\"text-align: right;\">\n",
       "      <th></th>\n",
       "      <th>tciaID</th>\n",
       "      <th>phase</th>\n",
       "      <th>idh</th>\n",
       "      <th>1p19q</th>\n",
       "      <th>gt_seg</th>\n",
       "      <th>OS</th>\n",
       "      <th>OS_EVENT</th>\n",
       "    </tr>\n",
       "  </thead>\n",
       "  <tbody>\n",
       "    <tr>\n",
       "      <th>Brats18_2013_0_1</th>\n",
       "      <td>NaN</td>\n",
       "      <td>unlabeled train</td>\n",
       "      <td>NaN</td>\n",
       "      <td>NaN</td>\n",
       "      <td>1</td>\n",
       "      <td>NaN</td>\n",
       "      <td>NaN</td>\n",
       "    </tr>\n",
       "    <tr>\n",
       "      <th>Brats18_2013_10_1</th>\n",
       "      <td>NaN</td>\n",
       "      <td>unlabeled train</td>\n",
       "      <td>NaN</td>\n",
       "      <td>NaN</td>\n",
       "      <td>1</td>\n",
       "      <td>NaN</td>\n",
       "      <td>NaN</td>\n",
       "    </tr>\n",
       "    <tr>\n",
       "      <th>Brats18_2013_11_1</th>\n",
       "      <td>NaN</td>\n",
       "      <td>unlabeled train</td>\n",
       "      <td>NaN</td>\n",
       "      <td>NaN</td>\n",
       "      <td>1</td>\n",
       "      <td>NaN</td>\n",
       "      <td>NaN</td>\n",
       "    </tr>\n",
       "    <tr>\n",
       "      <th>Brats18_2013_12_1</th>\n",
       "      <td>NaN</td>\n",
       "      <td>unlabeled train</td>\n",
       "      <td>NaN</td>\n",
       "      <td>NaN</td>\n",
       "      <td>1</td>\n",
       "      <td>NaN</td>\n",
       "      <td>NaN</td>\n",
       "    </tr>\n",
       "    <tr>\n",
       "      <th>Brats18_2013_13_1</th>\n",
       "      <td>NaN</td>\n",
       "      <td>unlabeled train</td>\n",
       "      <td>NaN</td>\n",
       "      <td>NaN</td>\n",
       "      <td>1</td>\n",
       "      <td>NaN</td>\n",
       "      <td>NaN</td>\n",
       "    </tr>\n",
       "    <tr>\n",
       "      <th>...</th>\n",
       "      <td>...</td>\n",
       "      <td>...</td>\n",
       "      <td>...</td>\n",
       "      <td>...</td>\n",
       "      <td>...</td>\n",
       "      <td>...</td>\n",
       "      <td>...</td>\n",
       "    </tr>\n",
       "    <tr>\n",
       "      <th>Brats18_WashU_W051_1</th>\n",
       "      <td>NaN</td>\n",
       "      <td>unlabeled train</td>\n",
       "      <td>NaN</td>\n",
       "      <td>NaN</td>\n",
       "      <td>0</td>\n",
       "      <td>NaN</td>\n",
       "      <td>NaN</td>\n",
       "    </tr>\n",
       "    <tr>\n",
       "      <th>Brats18_WashU_W053_1</th>\n",
       "      <td>NaN</td>\n",
       "      <td>unlabeled train</td>\n",
       "      <td>NaN</td>\n",
       "      <td>NaN</td>\n",
       "      <td>0</td>\n",
       "      <td>NaN</td>\n",
       "      <td>NaN</td>\n",
       "    </tr>\n",
       "    <tr>\n",
       "      <th>Brats18_WashU_W061_1</th>\n",
       "      <td>NaN</td>\n",
       "      <td>unlabeled train</td>\n",
       "      <td>NaN</td>\n",
       "      <td>NaN</td>\n",
       "      <td>0</td>\n",
       "      <td>NaN</td>\n",
       "      <td>NaN</td>\n",
       "    </tr>\n",
       "    <tr>\n",
       "      <th>Brats18_WashU_W065_1</th>\n",
       "      <td>NaN</td>\n",
       "      <td>unlabeled train</td>\n",
       "      <td>NaN</td>\n",
       "      <td>NaN</td>\n",
       "      <td>0</td>\n",
       "      <td>NaN</td>\n",
       "      <td>NaN</td>\n",
       "    </tr>\n",
       "    <tr>\n",
       "      <th>Brats18_WashU_W082_1</th>\n",
       "      <td>NaN</td>\n",
       "      <td>unlabeled train</td>\n",
       "      <td>NaN</td>\n",
       "      <td>NaN</td>\n",
       "      <td>0</td>\n",
       "      <td>NaN</td>\n",
       "      <td>NaN</td>\n",
       "    </tr>\n",
       "  </tbody>\n",
       "</table>\n",
       "<p>542 rows × 7 columns</p>\n",
       "</div>"
      ],
      "text/plain": [
       "                     tciaID            phase  idh  1p19q  gt_seg  OS  OS_EVENT\n",
       "Brats18_2013_0_1        NaN  unlabeled train  NaN    NaN       1 NaN       NaN\n",
       "Brats18_2013_10_1       NaN  unlabeled train  NaN    NaN       1 NaN       NaN\n",
       "Brats18_2013_11_1       NaN  unlabeled train  NaN    NaN       1 NaN       NaN\n",
       "Brats18_2013_12_1       NaN  unlabeled train  NaN    NaN       1 NaN       NaN\n",
       "Brats18_2013_13_1       NaN  unlabeled train  NaN    NaN       1 NaN       NaN\n",
       "...                     ...              ...  ...    ...     ...  ..       ...\n",
       "Brats18_WashU_W051_1    NaN  unlabeled train  NaN    NaN       0 NaN       NaN\n",
       "Brats18_WashU_W053_1    NaN  unlabeled train  NaN    NaN       0 NaN       NaN\n",
       "Brats18_WashU_W061_1    NaN  unlabeled train  NaN    NaN       0 NaN       NaN\n",
       "Brats18_WashU_W065_1    NaN  unlabeled train  NaN    NaN       0 NaN       NaN\n",
       "Brats18_WashU_W082_1    NaN  unlabeled train  NaN    NaN       0 NaN       NaN\n",
       "\n",
       "[542 rows x 7 columns]"
      ]
     },
     "execution_count": 7,
     "metadata": {},
     "output_type": "execute_result"
    }
   ],
   "source": [
    "glioma_metadata_df"
   ]
  },
  {
   "cell_type": "code",
   "execution_count": null,
   "metadata": {},
   "outputs": [],
   "source": []
  },
  {
   "cell_type": "markdown",
   "metadata": {},
   "source": [
    "# Dataloader"
   ]
  },
  {
   "cell_type": "code",
   "execution_count": 7,
   "metadata": {},
   "outputs": [
    {
     "data": {
      "text/plain": [
       "['wildtype', 'mutant']"
      ]
     },
     "execution_count": 7,
     "metadata": {},
     "output_type": "execute_result"
    }
   ],
   "source": [
    "## get transformations\n",
    "# MinMaxNormalize, Scale, \"zero sprinle\", \"zero channel\"\n",
    "train_transformations, seg_transformations, val_transformations = get_transformations(channels=channels, \n",
    "                                                                                      resize_shape=resize_shape, \n",
    "                                                                                      prob_voxel_zero=0.2, \n",
    "                                                                                      prob_true=0.8, \n",
    "                                                                                      prob_channel_zero=0.5,\n",
    "                                                                                      mtl=False)\n",
    "data_transforms = {'train': train_transformations, 'val':   val_transformations}\n",
    "                   \n",
    "transformed_dataset_train = GeneralDataset(metadata_df=train_df, \n",
    "                                           root_dir=image_dir,\n",
    "                                           genomic_csv_file = genomic_data_dict['train'],\n",
    "                                           transform=train_transformations,\n",
    "                                           seg_transform=seg_transformations,\n",
    "                                           label=label,\n",
    "                                           classes=classes,\n",
    "                                           dataformat=dataformat,\n",
    "                                           returndims=resize_shape,\n",
    "                                           brats2tcia_df=brats2tcia_df,\n",
    "                                           include_genomic_data = include_genomic_data,\n",
    "                                           pretrained=best_model_loc,\n",
    "                                           modality=modality)\n",
    "\n",
    "transformed_dataset_val = GeneralDataset(metadata_df=val_df,\n",
    "                                         root_dir=image_dir,\n",
    "                                         genomic_csv_file = genomic_data_dict['val'],\n",
    "                                         transform=val_transformations,\n",
    "                                         seg_transform=seg_transformations,\n",
    "                                         label=label,\n",
    "                                         classes=classes,\n",
    "                                         dataformat=dataformat,\n",
    "                                         returndims=resize_shape,\n",
    "                                         brats2tcia_df=brats2tcia_df,\n",
    "                                         include_genomic_data = include_genomic_data,\n",
    "                                         pretrained=best_model_loc,\n",
    "                                         modality=modality)\n",
    "\n",
    "\n",
    "image_datasets = {'train':transformed_dataset_train, 'val':transformed_dataset_val}\n",
    "\n",
    "train_batch_size, val_batch_size = 4, 4\n",
    "dataloader_train = DataLoader(image_datasets['train'], batch_size=train_batch_size, shuffle=True, num_workers=4)\n",
    "dataloader_val = DataLoader(image_datasets['val'], batch_size=val_batch_size, shuffle=True, num_workers=4)\n",
    "\n",
    "dataloaders = {'train':dataloader_train, 'val':dataloader_val}\n",
    "dataset_sizes = {'train':len(image_datasets['train']), 'val':len(image_datasets['val'])}\n",
    "\n",
    "class_names = image_datasets['train'].classes\n",
    "class_names"
   ]
  },
  {
   "cell_type": "code",
   "execution_count": null,
   "metadata": {},
   "outputs": [],
   "source": []
  },
  {
   "cell_type": "markdown",
   "metadata": {},
   "source": [
    "# Visualize Data"
   ]
  },
  {
   "cell_type": "code",
   "execution_count": 8,
   "metadata": {},
   "outputs": [],
   "source": [
    "# # visualize training (or validation) data\n",
    "# for i, data in enumerate(dataloaders['train']):\n",
    "#     # data batch\n",
    "#     (image, seg_image, genomic_data, seg_probs), label, (OS, OS_EVENT), bratsID = data\n",
    "#     # print scan ID\n",
    "#     print(bratsID[0])\n",
    "    \n",
    "#     # format MRI images (slices of volumetric input)\n",
    "#     img = image[0,:, :, :, int(image.shape[-1]/2)].squeeze()\n",
    "#     img = utils.make_grid(img)\n",
    "#     img = img.detach().cpu().numpy()\n",
    "    \n",
    "#     # plot images\n",
    "#     plt.figure(figsize=(15, 8))\n",
    "#     img_list = [img[i].T for i in range(channels)] # 1 image per channel\n",
    "#     plt.imshow(np.hstack(img_list), cmap='Greys_r')\n",
    "#     plt.show()\n",
    "\n",
    "#     ## plot segmentation mask ##\n",
    "#     seg_img = seg_image[0, :, :, :, int(seg_image.shape[-1]/2)].squeeze()\n",
    "#     seg_img = utils.make_grid(seg_img).detach().cpu().numpy()\n",
    "\n",
    "#     plt.figure(figsize=(4, 4))\n",
    "#     plt.imshow(np.hstack([seg_img[0].T]), cmap='Greys_r')\n",
    "#     plt.show()\n",
    "\n",
    "#     break"
   ]
  },
  {
   "cell_type": "code",
   "execution_count": null,
   "metadata": {},
   "outputs": [],
   "source": []
  },
  {
   "cell_type": "code",
   "execution_count": null,
   "metadata": {},
   "outputs": [],
   "source": []
  },
  {
   "cell_type": "code",
   "execution_count": null,
   "metadata": {},
   "outputs": [],
   "source": []
  },
  {
   "cell_type": "code",
   "execution_count": null,
   "metadata": {},
   "outputs": [],
   "source": []
  },
  {
   "cell_type": "code",
   "execution_count": null,
   "metadata": {},
   "outputs": [],
   "source": []
  },
  {
   "cell_type": "code",
   "execution_count": null,
   "metadata": {},
   "outputs": [],
   "source": []
  },
  {
   "cell_type": "code",
   "execution_count": null,
   "metadata": {},
   "outputs": [],
   "source": []
  },
  {
   "cell_type": "markdown",
   "metadata": {},
   "source": [
    "# Train"
   ]
  },
  {
   "cell_type": "code",
   "execution_count": null,
   "metadata": {
    "scrolled": true
   },
   "outputs": [
    {
     "name": "stdout",
     "output_type": "stream",
     "text": [
      "tensorboad: 3D_idh_all_64x64x64_genomic-False\n",
      "Iteration 0\n"
     ]
    },
    {
     "data": {
      "application/vnd.jupyter.widget-view+json": {
       "model_id": "6f7a09de023145e4a89a7dde363584b7",
       "version_major": 2,
       "version_minor": 0
      },
      "text/plain": [
       "HBox(children=(FloatProgress(value=0.0, max=50.0), HTML(value='')))"
      ]
     },
     "metadata": {},
     "output_type": "display_data"
    },
    {
     "name": "stdout",
     "output_type": "stream",
     "text": [
      "New Best AUC:\t 0.6909722222222222 \tin epoch 6\n",
      "New Best AUC:\t 0.7465277777777778 \tin epoch 7\n",
      "New Best AUC:\t 0.8101851851851851 \tin epoch 8\n",
      "New Best AUC:\t 0.8449074074074074 \tin epoch 9\n",
      "New Best AUC:\t 0.8657407407407407 \tin epoch 14\n",
      "Epoch    42: reducing learning rate of group 0 to 5.0000e-05.\n",
      "\n",
      "Finished Training\n",
      "Iteration 1\n"
     ]
    },
    {
     "data": {
      "application/vnd.jupyter.widget-view+json": {
       "model_id": "5aa0798040f04404bde60d77d38664a0",
       "version_major": 2,
       "version_minor": 0
      },
      "text/plain": [
       "HBox(children=(FloatProgress(value=0.0, max=50.0), HTML(value='')))"
      ]
     },
     "metadata": {},
     "output_type": "display_data"
    },
    {
     "name": "stdout",
     "output_type": "stream",
     "text": [
      "New Best AUC:\t 0.8368055555555556 \tin epoch 6\n",
      "New Best AUC:\t 0.8472222222222223 \tin epoch 10\n",
      "Epoch    22: reducing learning rate of group 0 to 5.0000e-05.\n",
      "Epoch    33: reducing learning rate of group 0 to 5.0000e-06.\n",
      "Epoch    44: reducing learning rate of group 0 to 5.0000e-07.\n",
      "\n",
      "Finished Training\n",
      "Iteration 2\n"
     ]
    },
    {
     "data": {
      "application/vnd.jupyter.widget-view+json": {
       "model_id": "68d7c6144fc64080b177aaa636d01d96",
       "version_major": 2,
       "version_minor": 0
      },
      "text/plain": [
       "HBox(children=(FloatProgress(value=0.0, max=50.0), HTML(value='')))"
      ]
     },
     "metadata": {},
     "output_type": "display_data"
    },
    {
     "name": "stdout",
     "output_type": "stream",
     "text": [
      "New Best AUC:\t 0.8171296296296297 \tin epoch 6\n",
      "New Best AUC:\t 0.8541666666666666 \tin epoch 9\n",
      "New Best AUC:\t 0.8657407407407408 \tin epoch 11\n",
      "New Best AUC:\t 0.875 \tin epoch 14\n",
      "New Best AUC:\t 0.8784722222222223 \tin epoch 17\n",
      "Epoch    33: reducing learning rate of group 0 to 5.0000e-05.\n",
      "Epoch    44: reducing learning rate of group 0 to 5.0000e-06.\n",
      "\n",
      "Finished Training\n",
      "Iteration 3\n"
     ]
    },
    {
     "data": {
      "application/vnd.jupyter.widget-view+json": {
       "model_id": "126652b8b9074844ae82d6941739479b",
       "version_major": 2,
       "version_minor": 0
      },
      "text/plain": [
       "HBox(children=(FloatProgress(value=0.0, max=50.0), HTML(value='')))"
      ]
     },
     "metadata": {},
     "output_type": "display_data"
    },
    {
     "name": "stdout",
     "output_type": "stream",
     "text": [
      "New Best AUC:\t 0.8055555555555555 \tin epoch 6\n",
      "New Best AUC:\t 0.857638888888889 \tin epoch 9\n",
      "New Best AUC:\t 0.8611111111111112 \tin epoch 16\n",
      "New Best AUC:\t 0.8634259259259259 \tin epoch 30\n",
      "Epoch    36: reducing learning rate of group 0 to 5.0000e-05.\n",
      "Epoch    47: reducing learning rate of group 0 to 5.0000e-06.\n",
      "\n",
      "Finished Training\n",
      "Iteration 4\n"
     ]
    },
    {
     "data": {
      "application/vnd.jupyter.widget-view+json": {
       "model_id": "bebd65871ec944e6809273814e614def",
       "version_major": 2,
       "version_minor": 0
      },
      "text/plain": [
       "HBox(children=(FloatProgress(value=0.0, max=50.0), HTML(value='')))"
      ]
     },
     "metadata": {},
     "output_type": "display_data"
    },
    {
     "name": "stdout",
     "output_type": "stream",
     "text": [
      "New Best AUC:\t 0.7222222222222222 \tin epoch 6\n",
      "New Best AUC:\t 0.7731481481481481 \tin epoch 7\n",
      "New Best AUC:\t 0.8055555555555556 \tin epoch 11\n",
      "Epoch    16: reducing learning rate of group 0 to 5.0000e-05.\n",
      "New Best AUC:\t 0.8090277777777778 \tin epoch 21\n",
      "Epoch    27: reducing learning rate of group 0 to 5.0000e-06.\n"
     ]
    }
   ],
   "source": [
    "# tensorboard\n",
    "img_dims = str(resize_shape[0]) + 'x' + str(resize_shape[1]) + 'x' + str(resize_shape[2])\n",
    "weight_outfile_prefix = '3D_' + task + '_' + modality + '_' \\\n",
    "                    + img_dims + '_genomic-' + str(include_genomic_data)\n",
    "print('tensorboad:', weight_outfile_prefix)\n",
    "writer = SummaryWriter('runs1/'+weight_outfile_prefix)\n",
    "\n",
    "\n",
    "# get loss weights\n",
    "num_classes = 2\n",
    "label_df = train_df.loc[train_df[task].isin([0,1])][task]\n",
    "_, cnts = np.unique(label_df, return_counts=True)\n",
    "loss_weights = (np.ones(num_classes)/cnts)*np.max(cnts)\n",
    "loss_weights = torch.FloatTensor(loss_weights).to(device)\n",
    "\n",
    "# train\n",
    "best_auc_list, best_acc_list = [], []\n",
    "epochs = 50\n",
    "iterations = 10\n",
    "seg_loss_weight = 0.1\n",
    "surv_loss_weight = None\n",
    "\n",
    "# samples with ground truth segmentations\n",
    "brats_seg_ids = glioma_metadata_df[glioma_metadata_df['gt_seg'] == 1].index\n",
    "\n",
    "# segmentation class weights\n",
    "seg_4class_weights = np.load('../data/segmentation_4-class_weights.npy')\n",
    "seg_4class_weights = torch.FloatTensor(seg_4class_weights).to(device)\n",
    "\n",
    "seg_2class_weights = np.load('../data/segmentation_2-class_weights.npy')\n",
    "seg_2class_weights = torch.FloatTensor(seg_2class_weights).to(device)\n",
    "\n",
    "\n",
    "for i in range(iterations):\n",
    "    print('Iteration', i)\n",
    "\n",
    "    best_auc_list, best_acc_list = mtl_experiment(dataloaders=dataloaders,\n",
    "                                                  data_transforms=data_transforms,\n",
    "                                                  dataset_sizes=dataset_sizes,\n",
    "                                                  best_model_loc=best_model_loc, \n",
    "                                                  best_auc_list=best_auc_list,\n",
    "                                                  best_acc_list=best_acc_list,\n",
    "                                                  weight_outfile_prefix=weight_outfile_prefix,\n",
    "                                                  class_names=class_names,\n",
    "                                                  channels=channels, \n",
    "                                                  loss_weights=loss_weights,\n",
    "                                                  seg_4class_weights=seg_4class_weights,\n",
    "                                                  seg_2class_weights=seg_2class_weights,\n",
    "                                                  seg_loss_weight=seg_loss_weight,\n",
    "                                                  surv_loss_weight=surv_loss_weight,\n",
    "                                                  device=device,\n",
    "                                                  brats_seg_ids=brats_seg_ids,\n",
    "                                                  writer=writer,\n",
    "                                                  model_weights_dir='../model_weights/results/',\n",
    "                                                  epochs=epochs,\n",
    "                                                  iterations=iterations,\n",
    "                                                  standard_unlabled_loss=True,\n",
    "                                                  include_genomic_data=include_genomic_data,\n",
    "                                                  modality=modality,\n",
    "                                                  take_surv_loss=False,\n",
    "                                                  g_in_features=50,\n",
    "                                                  g_out_features=128)\n"
   ]
  },
  {
   "cell_type": "code",
   "execution_count": null,
   "metadata": {},
   "outputs": [],
   "source": []
  }
 ],
 "metadata": {
  "hide_input": false,
  "kernelspec": {
   "display_name": "Python 3",
   "language": "python",
   "name": "python3"
  },
  "language_info": {
   "codemirror_mode": {
    "name": "ipython",
    "version": 3
   },
   "file_extension": ".py",
   "mimetype": "text/x-python",
   "name": "python",
   "nbconvert_exporter": "python",
   "pygments_lexer": "ipython3",
   "version": "3.8.2"
  },
  "latex_envs": {
   "LaTeX_envs_menu_present": true,
   "autoclose": false,
   "autocomplete": true,
   "bibliofile": "biblio.bib",
   "cite_by": "apalike",
   "current_citInitial": 1,
   "eqLabelWithNumbers": true,
   "eqNumInitial": 1,
   "hotkeys": {
    "equation": "Ctrl-E",
    "itemize": "Ctrl-I"
   },
   "labels_anchors": false,
   "latex_user_defs": false,
   "report_style_numbering": false,
   "user_envs_cfg": false
  },
  "varInspector": {
   "cols": {
    "lenName": 16,
    "lenType": 16,
    "lenVar": 40
   },
   "kernels_config": {
    "python": {
     "delete_cmd_postfix": "",
     "delete_cmd_prefix": "del ",
     "library": "var_list.py",
     "varRefreshCmd": "print(var_dic_list())"
    },
    "r": {
     "delete_cmd_postfix": ") ",
     "delete_cmd_prefix": "rm(",
     "library": "var_list.r",
     "varRefreshCmd": "cat(var_dic_list()) "
    }
   },
   "types_to_exclude": [
    "module",
    "function",
    "builtin_function_or_method",
    "instance",
    "_Feature"
   ],
   "window_display": false
  }
 },
 "nbformat": 4,
 "nbformat_minor": 2
}
